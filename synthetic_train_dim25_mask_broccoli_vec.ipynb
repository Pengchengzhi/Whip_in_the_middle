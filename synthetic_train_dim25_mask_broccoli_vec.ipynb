{
  "cells": [
    {
      "cell_type": "markdown",
      "metadata": {
        "id": "view-in-github",
        "colab_type": "text"
      },
      "source": [
        "<a href=\"https://colab.research.google.com/github/Pengchengzhi/Whip_in_the_middle/blob/main/synthetic_train_dim25_mask_broccoli_vec.ipynb\" target=\"_parent\"><img src=\"https://colab.research.google.com/assets/colab-badge.svg\" alt=\"Open In Colab\"/></a>"
      ]
    },
    {
      "cell_type": "markdown",
      "metadata": {
        "id": "4lHwATNgFnh6"
      },
      "source": [
        "# Initiate"
      ]
    },
    {
      "cell_type": "code",
      "execution_count": 1,
      "metadata": {
        "colab": {
          "base_uri": "https://localhost:8080/"
        },
        "id": "BqIetBfMRuzQ",
        "outputId": "20b02fbc-9408-449d-98b6-6949a1db622e"
      },
      "outputs": [
        {
          "output_type": "stream",
          "name": "stdout",
          "text": [
            "Mon Dec 13 02:13:05 2021       \n",
            "+-----------------------------------------------------------------------------+\n",
            "| NVIDIA-SMI 495.44       Driver Version: 460.32.03    CUDA Version: 11.2     |\n",
            "|-------------------------------+----------------------+----------------------+\n",
            "| GPU  Name        Persistence-M| Bus-Id        Disp.A | Volatile Uncorr. ECC |\n",
            "| Fan  Temp  Perf  Pwr:Usage/Cap|         Memory-Usage | GPU-Util  Compute M. |\n",
            "|                               |                      |               MIG M. |\n",
            "|===============================+======================+======================|\n",
            "|   0  Tesla P100-PCIE...  Off  | 00000000:00:04.0 Off |                    0 |\n",
            "| N/A   38C    P0    36W / 250W |      0MiB / 16280MiB |      0%      Default |\n",
            "|                               |                      |                  N/A |\n",
            "+-------------------------------+----------------------+----------------------+\n",
            "                                                                               \n",
            "+-----------------------------------------------------------------------------+\n",
            "| Processes:                                                                  |\n",
            "|  GPU   GI   CI        PID   Type   Process name                  GPU Memory |\n",
            "|        ID   ID                                                   Usage      |\n",
            "|=============================================================================|\n",
            "|  No running processes found                                                 |\n",
            "+-----------------------------------------------------------------------------+\n"
          ]
        }
      ],
      "source": [
        "!nvidia-smi"
      ]
    },
    {
      "cell_type": "code",
      "execution_count": 2,
      "metadata": {
        "colab": {
          "base_uri": "https://localhost:8080/"
        },
        "id": "XlQzBMPbtc4n",
        "outputId": "9cfe7421-c860-4c31-a819-86d3b87bcd79"
      },
      "outputs": [
        {
          "output_type": "stream",
          "name": "stdout",
          "text": [
            "Drive already mounted at /content/drive; to attempt to forcibly remount, call drive.mount(\"/content/drive\", force_remount=True).\n"
          ]
        },
        {
          "output_type": "execute_result",
          "data": {
            "text/plain": [
              "['data',\n",
              " 'results',\n",
              " 'pts.jpg',\n",
              " 'angel.jpg',\n",
              " 'path.jpg',\n",
              " 'cifar10-train.ipynb',\n",
              " 'utils',\n",
              " 'interested_class_in.npy',\n",
              " 'interested_class_wn.npy',\n",
              " 'synthetic-train-baseline.ipynb',\n",
              " 'synthetic-train.ipynb']"
            ]
          },
          "metadata": {},
          "execution_count": 2
        }
      ],
      "source": [
        "from google.colab import drive\n",
        "drive.mount(\"/content/drive\")\n",
        "\n",
        "import os\n",
        "path=\"/content/drive/My Drive/542_Proj\"\n",
        "os.chdir(path)\n",
        "os.listdir(path)"
      ]
    },
    {
      "cell_type": "code",
      "execution_count": 3,
      "metadata": {
        "colab": {
          "base_uri": "https://localhost:8080/"
        },
        "id": "Xnb0ddk04eoO",
        "outputId": "b55c4e24-18b3-4dfd-913a-b4f1cdd25505"
      },
      "outputs": [
        {
          "output_type": "stream",
          "name": "stdout",
          "text": [
            "Requirement already satisfied: anytree in /usr/local/lib/python3.7/dist-packages (2.8.0)\n",
            "Requirement already satisfied: six>=1.9.0 in /usr/local/lib/python3.7/dist-packages (from anytree) (1.15.0)\n"
          ]
        }
      ],
      "source": [
        "!pip install anytree"
      ]
    },
    {
      "cell_type": "code",
      "execution_count": 4,
      "metadata": {
        "id": "pU4Be0KVen7S"
      },
      "outputs": [],
      "source": [
        "import torch\n",
        "import math\n",
        "import matplotlib.pyplot as plt\n",
        "import time\n",
        "import os\n",
        "import numpy as np\n",
        "import csv\n",
        "from torchvision import transforms\n",
        "from torchvision import datasets, models\n",
        "import torch.nn as nn\n",
        "from torch.utils import data\n",
        "\n",
        "device = 'cuda' if torch.cuda.is_available() else 'cpu'\n",
        "\n",
        "from utils.load_data import *\n",
        "from utils.tree import build_tree\n",
        "\n",
        "num_class = 56"
      ]
    },
    {
      "cell_type": "markdown",
      "metadata": {
        "id": "C5N_hJH96jCH"
      },
      "source": [
        "# Hyper Parameters"
      ]
    },
    {
      "cell_type": "code",
      "execution_count": 5,
      "metadata": {
        "id": "WyAsWIXy6gnR"
      },
      "outputs": [],
      "source": [
        "hidden_dim = 25\n",
        "\n",
        "# Training Parameters\n",
        "nIters = 20\n",
        "learning_rate = 1e-4\n",
        "label_shrink = 100 "
      ]
    },
    {
      "cell_type": "markdown",
      "metadata": {
        "id": "9wk8G9O_Fph2"
      },
      "source": [
        "# Load Data"
      ]
    },
    {
      "cell_type": "code",
      "execution_count": 6,
      "metadata": {
        "id": "nxJ7u7U41Qbk"
      },
      "outputs": [],
      "source": [
        "normalize = transforms.Normalize(mean=[0.485, 0.456, 0.406],\n",
        "                std=[0.229, 0.224, 0.225])   # Nomalizaion\n",
        "\n",
        "blur1 = transforms.GaussianBlur(kernel_size=(5, 5), sigma=(0.1, 2))\n",
        "blur2 = transforms.GaussianBlur(kernel_size=(3, 3), sigma=(0.1, 2))\n",
        "blur3 = transforms.GaussianBlur(kernel_size=(1, 1), sigma=(0.1, 2)) # No blur\n",
        "\n",
        "train_transform = transforms.Compose([\n",
        "          transforms.Resize([256,256]),    # Resize to 256\n",
        "          transforms.RandomHorizontalFlip(),  # Random flip\n",
        "          #transforms.RandomVerticalFlip(),\n",
        "          transforms.RandomRotation(10),    # Random rotation\n",
        "          transforms.RandomPerspective(0.2),  # Random perspective change\n",
        "          transforms.RandomCrop([224, 224]),  # Random Crop\n",
        "          transforms.RandomChoice([blur1, blur2, blur3]),          # Random blur\n",
        "          transforms.ToTensor(),\n",
        "          normalize,])\n",
        "val_transform = transforms.Compose([transforms.Resize([256,256]),\n",
        "                  transforms.CenterCrop(224),\n",
        "                  transforms.ToTensor(),\n",
        "                  normalize,])"
      ]
    },
    {
      "cell_type": "code",
      "execution_count": 7,
      "metadata": {
        "colab": {
          "base_uri": "https://localhost:8080/"
        },
        "id": "f-jtGQQgL08r",
        "outputId": "a84be00b-f7d9-46e3-a379-90d31148e5da"
      },
      "outputs": [
        {
          "output_type": "stream",
          "name": "stdout",
          "text": [
            "Load 11647 images, used 3.238898s\n"
          ]
        }
      ],
      "source": [
        "data_root = path+'/data/synthetic/'\n",
        "        \n",
        "data_train = Imgnet_Dataset(data_root, mode='train', transform=train_transform)\n",
        "train_loader = data.DataLoader(data_train, batch_size=150, shuffle=True)"
      ]
    },
    {
      "cell_type": "markdown",
      "metadata": {
        "id": "NDGU6_Et73mq"
      },
      "source": [
        "# Make Label"
      ]
    },
    {
      "cell_type": "code",
      "execution_count": 8,
      "metadata": {
        "id": "oI6ck2lI4Sjp"
      },
      "outputs": [],
      "source": [
        "label_dict = build_tree(dim_N=hidden_dim, length_list=[1,1,1.5,1.5,2,2,3,4,4])\n",
        "\n",
        "def label_to_vec(B, label, label_dict):\n",
        "  label_vec = torch.zeros(B, hidden_dim)\n",
        "  label = list(label)\n",
        "  for i in range(len(label)):\n",
        "    label_vec[i,:] = torch.tensor(label_dict[label[i]]).reshape(1,-1).float()\n",
        "  return label_vec"
      ]
    },
    {
      "cell_type": "markdown",
      "source": [
        "# Functions"
      ],
      "metadata": {
        "id": "h4rFYO-74E6x"
      }
    },
    {
      "cell_type": "code",
      "source": [
        "label_name_list = list(label_dict.keys())\n",
        "label_vector_full = torch.zeros(num_class, hidden_dim).to(device)\n",
        "for i in range(len(label_name_list)):\n",
        "  name = label_name_list[i]\n",
        "  label_vector_full[i,:] = torch.tensor(label_dict[name]).reshape(-1)"
      ],
      "metadata": {
        "id": "qmADxQ-8vBln"
      },
      "execution_count": 9,
      "outputs": []
    },
    {
      "cell_type": "code",
      "source": [
        "# plot label vectors for hidden dim=2\n",
        "\n",
        "# thidden_dim = 2\n",
        "# tlabel_dict = build_tree(dim_N=thidden_dim, length_list=[1,1,1,2,2,1,1,0.5,0.2])\n",
        "# tlabel_vector_full = torch.zeros(num_class, thidden_dim).to(device)\n",
        "# for i in range(len(label_name_list)):\n",
        "#   name = label_name_list[i]\n",
        "#   tlabel_vector_full[i,:] = torch.tensor(tlabel_dict[name]).reshape(-1)\n",
        "\n",
        "# for i in range(num_class):\n",
        "#   x,y = tlabel_vector_full[i,:]\n",
        "#   x = x.item()\n",
        "#   y = y.item()\n",
        "#   plt.scatter(x,y)"
      ],
      "metadata": {
        "id": "ssAb81QzPDrm"
      },
      "execution_count": 10,
      "outputs": []
    },
    {
      "cell_type": "code",
      "execution_count": 11,
      "metadata": {
        "id": "q7ywUT7f8WCT"
      },
      "outputs": [],
      "source": [
        "def vector_to_prediction(output, label_vec):\n",
        "  # output (B, feature_dim)\n",
        "  # label_vec (num_class, feature_dim)\n",
        "\n",
        "  diff = output.unsqueeze(1) - label_vec.cuda().unsqueeze(0) #(B, N, feature_dim)\n",
        "  diff = torch.sum(diff**2,2)\n",
        "  return torch.argmin(diff,dim=1) #(B,)"
      ]
    },
    {
      "cell_type": "code",
      "source": [
        "def get_label_index(y):\n",
        "  l = len(y)\n",
        "  label_index = torch.zeros(l).to(device)\n",
        "  for i in range(l):\n",
        "    label_index[i] = label_name_list.index(y[i])\n",
        "  return label_index"
      ],
      "metadata": {
        "id": "6GZrRQHow6Mb"
      },
      "execution_count": 12,
      "outputs": []
    },
    {
      "cell_type": "markdown",
      "metadata": {
        "id": "ose1BZie78mt"
      },
      "source": [
        "# Train"
      ]
    },
    {
      "cell_type": "code",
      "execution_count": 13,
      "metadata": {
        "id": "kwRwJSO_8WEX"
      },
      "outputs": [],
      "source": [
        "ResNet50 = models.resnet50(pretrained=False)\n",
        "fc_inputs = ResNet50.fc.in_features\n",
        "ResNet50.fc = nn.Sequential(\n",
        "    nn.Linear(fc_inputs,256),\n",
        "    nn.ReLU(),\n",
        "    nn.Linear(256,hidden_dim),\n",
        "    nn.ReLU(),\n",
        "    nn.Linear(hidden_dim, hidden_dim))"
      ]
    },
    {
      "cell_type": "code",
      "execution_count": 14,
      "metadata": {
        "id": "I29i6Ayx8YTY"
      },
      "outputs": [],
      "source": [
        "def train_epoch(epoch, data_loader, model, optimizer):\n",
        "  time_start = time.time()\n",
        "  for i, (data, label) in enumerate(data_loader):\n",
        "    B = data.shape[0]\n",
        "    label_vector = label_to_vec(B, label, label_dict) #(B, hidden_dim)\n",
        "    data = data.to(device)\n",
        "    label_vector = label_vector.to(device)/label_shrink \n",
        "\n",
        "    optimizer.zero_grad()\n",
        "    output = model.forward(data)\n",
        "    bare_MSE = torch.sum((output-label_vector)**2, axis=1)\n",
        "\n",
        "    label_index = get_label_index(label)\n",
        "    prediction = vector_to_prediction(output, label_vector_full)\n",
        "    mask = prediction == label_index\n",
        "    mask[mask == True] = 0\n",
        "    mask[mask == False] = 1\n",
        "    loss = torch.sum(bare_MSE*mask)/B\n",
        "\n",
        "    #loss = torch.sum(bare_MSE)/B\n",
        "\n",
        "    loss_hist[epoch] += loss.item()\n",
        "    loss.backward()\n",
        "    optimizer.step()\n",
        "\n",
        "  if (epoch+1)%1 == 0:\n",
        "    time_now = time.time()\n",
        "    used_minutes = (time_now - time_start)/60\n",
        "    print('Round', str(epoch+1)+'/'+str(nIters),', Loss: ', round(loss_hist[epoch].item(),5), ', Using: ', round(used_minutes, 2),' mins')\n",
        "    time_start = time.time()\n",
        "    # for i in range(nclass):\n",
        "    #   plt.scatter(label_vec[i,0].cpu().detach().numpy(), label_vec[i,1].cpu().detach().numpy())\n",
        "    # #plt.xlim(-2,2) \n",
        "    # #plt.ylim(-1,1)\n",
        "    # plt.title('The broccoli-like label, ROUND '+str(epoch+1))\n",
        "    # plt.show()"
      ]
    },
    {
      "cell_type": "code",
      "execution_count": 15,
      "metadata": {
        "colab": {
          "base_uri": "https://localhost:8080/"
        },
        "id": "J9Dn3c8c8YVp",
        "outputId": "2f83db97-c31e-4650-c001-2f455152df9f"
      },
      "outputs": [
        {
          "output_type": "stream",
          "name": "stdout",
          "text": [
            "Round 1/20 , Loss:  22.68432 , Using:  3.85  mins\n",
            "Round 2/20 , Loss:  14.18134 , Using:  3.9  mins\n",
            "Round 3/20 , Loss:  8.06086 , Using:  3.91  mins\n",
            "Round 4/20 , Loss:  3.99548 , Using:  3.9  mins\n",
            "Round 5/20 , Loss:  1.82582 , Using:  3.9  mins\n",
            "Round 6/20 , Loss:  0.88964 , Using:  3.91  mins\n",
            "Round 7/20 , Loss:  0.51407 , Using:  3.91  mins\n",
            "Round 8/20 , Loss:  0.38769 , Using:  3.92  mins\n",
            "Round 9/20 , Loss:  0.3201 , Using:  3.93  mins\n",
            "Round 10/20 , Loss:  0.30403 , Using:  3.92  mins\n",
            "Round 11/20 , Loss:  0.30445 , Using:  3.91  mins\n",
            "Round 12/20 , Loss:  0.29783 , Using:  3.91  mins\n",
            "Round 13/20 , Loss:  0.29973 , Using:  3.95  mins\n",
            "Round 14/20 , Loss:  0.29571 , Using:  3.97  mins\n",
            "Round 15/20 , Loss:  0.29569 , Using:  3.98  mins\n",
            "Round 16/20 , Loss:  0.29327 , Using:  3.98  mins\n",
            "Round 17/20 , Loss:  0.29188 , Using:  3.97  mins\n",
            "Round 18/20 , Loss:  0.28913 , Using:  3.99  mins\n",
            "Round 19/20 , Loss:  0.28831 , Using:  3.97  mins\n",
            "Round 20/20 , Loss:  0.28768 , Using:  4.0  mins\n"
          ]
        }
      ],
      "source": [
        "model = ResNet50.to(device)\n",
        "\n",
        "optimizer = torch.optim.Adam(params=model.parameters(), lr=learning_rate)\n",
        "\n",
        "run_name = 'run-'+ str(time.time())\n",
        "result_path = path+'/results/' + run_name + '/'\n",
        "train_val_metrics_path = result_path + 'train_val_metrics/'\n",
        "model_path = result_path + 'saved_model.pt'\n",
        "if not os.path.exists(result_path):\n",
        "    os.makedirs(result_path)\n",
        "    os.mkdir(train_val_metrics_path)\n",
        "\n",
        "loss_hist = torch.zeros(nIters).to(device)\n",
        "\n",
        "for epoch in range(nIters):\n",
        "  train_epoch(epoch, train_loader, model, optimizer)\n",
        "\n",
        "torch.save(model.state_dict(), model_path)"
      ]
    },
    {
      "cell_type": "code",
      "execution_count": 16,
      "metadata": {
        "id": "UPBxQZ078YYH",
        "colab": {
          "base_uri": "https://localhost:8080/",
          "height": 299
        },
        "outputId": "91cc9435-4600-4dd3-a6be-bf54b02cb0ee"
      },
      "outputs": [
        {
          "output_type": "execute_result",
          "data": {
            "text/plain": [
              "Text(0.5, 1.0, 'Training Loss')"
            ]
          },
          "metadata": {},
          "execution_count": 16
        },
        {
          "output_type": "display_data",
          "data": {
            "image/png": "[encoded data removed]",
            "text/plain": [
              "<Figure size 432x288 with 1 Axes>"
            ]
          },
          "metadata": {
            "needs_background": "light"
          }
        }
      ],
      "source": [
        "plt.plot(torch.arange(nIters), loss_hist.cpu().detach().numpy())\n",
        "plt.title('Training Loss')"
      ]
    },
    {
      "cell_type": "markdown",
      "metadata": {
        "id": "s5gTPXbY9nQC"
      },
      "source": [
        "# Test"
      ]
    },
    {
      "cell_type": "code",
      "source": [
        "data_trainset_test = Imgnet_Dataset(data_root, mode='train')\n",
        "train_loader_test = data.DataLoader(data_trainset_test, batch_size=150, shuffle=False)\n",
        "\n",
        "data_valset_test = Imgnet_Dataset(data_root, mode='val')\n",
        "val_loader_test = data.DataLoader(data_valset_test, batch_size=100, shuffle=False)"
      ],
      "metadata": {
        "id": "yCAZFg5tKIaM",
        "colab": {
          "base_uri": "https://localhost:8080/"
        },
        "outputId": "0f308b7b-6499-4ee1-ac1e-3f95735b74f0"
      },
      "execution_count": 17,
      "outputs": [
        {
          "output_type": "stream",
          "name": "stdout",
          "text": [
            "Load 11647 images, used 0.569854s\n",
            "Load 14486 images, used 0.455393s\n"
          ]
        }
      ]
    },
    {
      "cell_type": "code",
      "source": [
        "# Evaluate model on test set\n",
        "out_path = train_val_metrics_path + '/'\n",
        "\n",
        "train_losses, train_preds = [], []\n",
        "num_correct_train = 0\n",
        "total_num_train = 0\n",
        "\n",
        "with torch.no_grad():\n",
        "  for X,y in train_loader_test:\n",
        "    B = X.shape[0]\n",
        "    output_vector = model(X.to(device))*label_shrink \n",
        "    label_vector = label_to_vec(B, y, label_dict).to(device)\n",
        "    label_index = get_label_index(y)\n",
        "\n",
        "    prediction = vector_to_prediction(output_vector, label_vector_full)\n",
        "    loss = nn.MSELoss()(output_vector, label_vector)\n",
        "    train_preds.append(prediction)\n",
        "    train_losses.append(loss.item())\n",
        "    num_correct_train += int(torch.sum(prediction == label_index))\n",
        "    total_num_train += B\n",
        "\n",
        "train_loss = np.mean(train_losses)\n",
        "train_acc = num_correct_train/total_num_train\n",
        "print('train loss: ' + str(round(train_loss,3)))\n",
        "print('train accuracy: ' + str(round(train_acc*100,3))+'%')"
      ],
      "metadata": {
        "colab": {
          "base_uri": "https://localhost:8080/"
        },
        "id": "8nHvr3ib_ZE4",
        "outputId": "e26755af-da6b-42c6-833c-2c9b75055974"
      },
      "execution_count": 18,
      "outputs": [
        {
          "output_type": "stream",
          "name": "stdout",
          "text": [
            "train loss: 1.894\n",
            "train accuracy: 2.172%\n"
          ]
        }
      ]
    },
    {
      "cell_type": "code",
      "source": [
        "test_preds, test_losses = [], []\n",
        "num_correct_test = 0\n",
        "total_num_test = 0\n",
        "\n",
        "with torch.no_grad():\n",
        "  for X,y in val_loader_test:\n",
        "    B = X.shape[0]\n",
        "    output_vector = model(X.to(device))*label_shrink\n",
        "    label_vector = label_to_vec(B, y, label_dict).to(device)\n",
        "    label_index = get_label_index(y)\n",
        "\n",
        "    prediction = vector_to_prediction(output_vector, label_vector_full)\n",
        "    loss = nn.MSELoss()(output_vector, label_vector)\n",
        "    test_preds.append(prediction)\n",
        "    test_losses.append(loss.item())\n",
        "    num_correct_test += int(torch.sum(prediction == label_index))\n",
        "    total_num_test += B\n",
        "    # if total_num_test %400 == 0:\n",
        "    #   print('Evaluated: ',total_num_test)\n",
        "\n",
        "test_loss = np.mean(test_losses)\n",
        "test_acc = num_correct_test/total_num_test\n",
        "print('test loss: ' + str(round(test_loss,3)))\n",
        "print('test accuracy: ' + str(round(test_acc*100,3))+'%')"
      ],
      "metadata": {
        "colab": {
          "base_uri": "https://localhost:8080/"
        },
        "id": "J55zP3MK6aNr",
        "outputId": "2174e2d8-6977-4161-f519-0b1be73fe7ab"
      },
      "execution_count": 19,
      "outputs": [
        {
          "output_type": "stream",
          "name": "stdout",
          "text": [
            "test loss: 1.948\n",
            "test accuracy: 2.092%\n"
          ]
        }
      ]
    },
    {
      "cell_type": "code",
      "execution_count": 20,
      "metadata": {
        "id": "CFEy0vww-TRX"
      },
      "outputs": [],
      "source": [
        "with open(train_val_metrics_path + 'test_model.csv', 'w') as csvfile:\n",
        "  fieldnames = ['train_loss', 'train_acc', 'test_loss', 'test_acc']\n",
        "  writer = csv.DictWriter(csvfile, fieldnames=fieldnames)\n",
        "  writer.writeheader()\n",
        "  writer.writerow({'train_loss': train_loss, 'train_acc': train_acc, 'test_loss': test_loss, 'test_acc': test_acc})"
      ]
    },
    {
      "cell_type": "code",
      "execution_count": 20,
      "metadata": {
        "id": "_8wNoPmdMKoo"
      },
      "outputs": [],
      "source": [
        ""
      ]
    },
    {
      "cell_type": "code",
      "execution_count": 20,
      "metadata": {
        "id": "b00rz7STMKql"
      },
      "outputs": [],
      "source": [
        ""
      ]
    },
    {
      "cell_type": "code",
      "execution_count": 20,
      "metadata": {
        "id": "x42I_8JUVxzZ"
      },
      "outputs": [],
      "source": [
        ""
      ]
    }
  ],
  "metadata": {
    "accelerator": "GPU",
    "colab": {
      "collapsed_sections": [],
      "name": "synthetic-train.ipynb",
      "provenance": [],
      "authorship_tag": "ABX9TyPFINLMR26KJSQjTSe0Xviv",
      "include_colab_link": true
    },
    "kernelspec": {
      "display_name": "Python 3",
      "name": "python3"
    },
    "language_info": {
      "name": "python"
    }
  },
  "nbformat": 4,
  "nbformat_minor": 0
}