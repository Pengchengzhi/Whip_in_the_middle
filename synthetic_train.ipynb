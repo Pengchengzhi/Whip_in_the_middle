{
  "cells": [
    {
      "cell_type": "markdown",
      "metadata": {
        "id": "view-in-github",
        "colab_type": "text"
      },
      "source": [
        "<a href=\"https://colab.research.google.com/github/Pengchengzhi/Whip_in_the_middle/blob/main/synthetic_train.ipynb\" target=\"_parent\"><img src=\"https://colab.research.google.com/assets/colab-badge.svg\" alt=\"Open In Colab\"/></a>"
      ]
    },
    {
      "cell_type": "markdown",
      "metadata": {
        "id": "4lHwATNgFnh6"
      },
      "source": [
        "# Initiate"
      ]
    },
    {
      "cell_type": "code",
      "execution_count": 1,
      "metadata": {
        "colab": {
          "base_uri": "https://localhost:8080/"
        },
        "id": "BqIetBfMRuzQ",
        "outputId": "5b42028d-54de-4ce5-b789-0bf96b2ace3c"
      },
      "outputs": [
        {
          "output_type": "stream",
          "name": "stdout",
          "text": [
            "Sun Dec 12 02:12:07 2021       \n",
            "+-----------------------------------------------------------------------------+\n",
            "| NVIDIA-SMI 495.44       Driver Version: 460.32.03    CUDA Version: 11.2     |\n",
            "|-------------------------------+----------------------+----------------------+\n",
            "| GPU  Name        Persistence-M| Bus-Id        Disp.A | Volatile Uncorr. ECC |\n",
            "| Fan  Temp  Perf  Pwr:Usage/Cap|         Memory-Usage | GPU-Util  Compute M. |\n",
            "|                               |                      |               MIG M. |\n",
            "|===============================+======================+======================|\n",
            "|   0  Tesla P100-PCIE...  Off  | 00000000:00:04.0 Off |                    0 |\n",
            "| N/A   34C    P0    26W / 250W |      0MiB / 16280MiB |      0%      Default |\n",
            "|                               |                      |                  N/A |\n",
            "+-------------------------------+----------------------+----------------------+\n",
            "                                                                               \n",
            "+-----------------------------------------------------------------------------+\n",
            "| Processes:                                                                  |\n",
            "|  GPU   GI   CI        PID   Type   Process name                  GPU Memory |\n",
            "|        ID   ID                                                   Usage      |\n",
            "|=============================================================================|\n",
            "|  No running processes found                                                 |\n",
            "+-----------------------------------------------------------------------------+\n"
          ]
        }
      ],
      "source": [
        "!nvidia-smi"
      ]
    },
    {
      "cell_type": "code",
      "execution_count": 2,
      "metadata": {
        "colab": {
          "base_uri": "https://localhost:8080/"
        },
        "id": "XlQzBMPbtc4n",
        "outputId": "c28fd8f0-f560-4236-906f-06632f45b882"
      },
      "outputs": [
        {
          "output_type": "stream",
          "name": "stdout",
          "text": [
            "Mounted at /content/drive\n"
          ]
        },
        {
          "output_type": "execute_result",
          "data": {
            "text/plain": [
              "['data',\n",
              " 'results',\n",
              " 'pts.jpg',\n",
              " 'angel.jpg',\n",
              " 'path.jpg',\n",
              " 'cifar10-train.ipynb',\n",
              " 'utils',\n",
              " 'interested_class_in.npy',\n",
              " 'interested_class_wn.npy',\n",
              " 'synthetic-train-baseline.ipynb',\n",
              " 'synthetic-train.ipynb']"
            ]
          },
          "metadata": {},
          "execution_count": 2
        }
      ],
      "source": [
        "from google.colab import drive\n",
        "drive.mount(\"/content/drive\")\n",
        "\n",
        "import os\n",
        "path=\"/content/drive/My Drive/542_Proj\"\n",
        "os.chdir(path)\n",
        "os.listdir(path)"
      ]
    },
    {
      "cell_type": "code",
      "execution_count": 3,
      "metadata": {
        "colab": {
          "base_uri": "https://localhost:8080/"
        },
        "id": "Xnb0ddk04eoO",
        "outputId": "ea73b0f3-98b5-4e35-80f5-479955343353"
      },
      "outputs": [
        {
          "output_type": "stream",
          "name": "stdout",
          "text": [
            "Collecting anytree\n",
            "  Downloading anytree-2.8.0-py2.py3-none-any.whl (41 kB)\n",
            "\u001b[?25l\r\u001b[K     |███████▉                        | 10 kB 35.3 MB/s eta 0:00:01\r\u001b[K     |███████████████▊                | 20 kB 36.3 MB/s eta 0:00:01\r\u001b[K     |███████████████████████▋        | 30 kB 38.8 MB/s eta 0:00:01\r\u001b[K     |███████████████████████████████▍| 40 kB 25.6 MB/s eta 0:00:01\r\u001b[K     |████████████████████████████████| 41 kB 665 kB/s \n",
            "\u001b[?25hRequirement already satisfied: six>=1.9.0 in /usr/local/lib/python3.7/dist-packages (from anytree) (1.15.0)\n",
            "Installing collected packages: anytree\n",
            "Successfully installed anytree-2.8.0\n"
          ]
        }
      ],
      "source": [
        "!pip install anytree"
      ]
    },
    {
      "cell_type": "code",
      "execution_count": 4,
      "metadata": {
        "id": "pU4Be0KVen7S"
      },
      "outputs": [],
      "source": [
        "import torch\n",
        "import math\n",
        "import matplotlib.pyplot as plt\n",
        "import time\n",
        "import os\n",
        "import numpy as np\n",
        "import csv\n",
        "from torchvision import transforms\n",
        "from torchvision import datasets, models\n",
        "import torch.nn as nn\n",
        "from torch.utils import data\n",
        "\n",
        "device = 'cuda' if torch.cuda.is_available() else 'cpu'\n",
        "\n",
        "from utils.load_data import *\n",
        "from utils.tree import build_tree\n",
        "\n",
        "num_class = 56"
      ]
    },
    {
      "cell_type": "markdown",
      "metadata": {
        "id": "C5N_hJH96jCH"
      },
      "source": [
        "# Hyper Parameters"
      ]
    },
    {
      "cell_type": "code",
      "execution_count": 5,
      "metadata": {
        "id": "WyAsWIXy6gnR"
      },
      "outputs": [],
      "source": [
        "hidden_dim = 50\n",
        "\n",
        "# Training Parameters\n",
        "nIters = 20\n",
        "learning_rate = 3e-4\n",
        "label_shrink = 100 "
      ]
    },
    {
      "cell_type": "markdown",
      "metadata": {
        "id": "9wk8G9O_Fph2"
      },
      "source": [
        "# Load Data"
      ]
    },
    {
      "cell_type": "code",
      "execution_count": 6,
      "metadata": {
        "id": "nxJ7u7U41Qbk"
      },
      "outputs": [],
      "source": [
        "normalize = transforms.Normalize(mean=[0.485, 0.456, 0.406],\n",
        "                std=[0.229, 0.224, 0.225])   # Nomalizaion\n",
        "\n",
        "blur1 = transforms.GaussianBlur(kernel_size=(5, 5), sigma=(0.1, 2))\n",
        "blur2 = transforms.GaussianBlur(kernel_size=(3, 3), sigma=(0.1, 2))\n",
        "blur3 = transforms.GaussianBlur(kernel_size=(1, 1), sigma=(0.1, 2)) # No blur\n",
        "\n",
        "train_transform = transforms.Compose([\n",
        "          transforms.Resize([256,256]),    # Resize to 256\n",
        "          transforms.RandomHorizontalFlip(),  # Random flip\n",
        "          transforms.RandomVerticalFlip(),\n",
        "          transforms.RandomRotation(90),    # Random rotation\n",
        "          transforms.RandomPerspective(0.2),  # Random perspective change\n",
        "          transforms.RandomCrop([224, 224]),  # Random Crop\n",
        "          transforms.RandomChoice([blur1, blur2, blur3]),          # Random blur\n",
        "          transforms.ToTensor(),\n",
        "          normalize,])\n",
        "val_transform = transforms.Compose([transforms.Resize([256,256]),\n",
        "                  transforms.CenterCrop(224),\n",
        "                  transforms.ToTensor(),\n",
        "                  normalize,])"
      ]
    },
    {
      "cell_type": "code",
      "execution_count": 7,
      "metadata": {
        "colab": {
          "base_uri": "https://localhost:8080/"
        },
        "id": "f-jtGQQgL08r",
        "outputId": "8b723cdb-2e76-4b4e-af10-dcb6e7be3fd3"
      },
      "outputs": [
        {
          "output_type": "stream",
          "name": "stdout",
          "text": [
            "Load 11647 images, used 69.236135s\n",
            "Load 14486 images, used 0.397252s\n"
          ]
        }
      ],
      "source": [
        "data_root = path+'/data/synthetic/'\n",
        "        \n",
        "data_train = Imgnet_Dataset(data_root, mode='train', transform=train_transform)\n",
        "train_loader = data.DataLoader(data_train, batch_size=150, shuffle=False)\n",
        "\n",
        "data_val = Imgnet_Dataset(data_root, mode='val', transform=val_transform)\n",
        "val_loader = data.DataLoader(data_val, batch_size=150, shuffle=False)"
      ]
    },
    {
      "cell_type": "markdown",
      "metadata": {
        "id": "NDGU6_Et73mq"
      },
      "source": [
        "# Make Label"
      ]
    },
    {
      "cell_type": "code",
      "execution_count": 8,
      "metadata": {
        "id": "oI6ck2lI4Sjp"
      },
      "outputs": [],
      "source": [
        "label_dict = build_tree(dim_N=hidden_dim)\n",
        "\n",
        "def label_to_vec(B, label, label_dict):\n",
        "  label_vec = torch.zeros(B, hidden_dim)\n",
        "  label = list(label)\n",
        "  for i in range(len(label)):\n",
        "    label_vec[i,:] = torch.tensor(label_dict[label[i]]).reshape(1,-1).float()\n",
        "  return label_vec"
      ]
    },
    {
      "cell_type": "markdown",
      "metadata": {
        "id": "ose1BZie78mt"
      },
      "source": [
        "# Train"
      ]
    },
    {
      "cell_type": "code",
      "execution_count": 10,
      "metadata": {
        "id": "kwRwJSO_8WEX"
      },
      "outputs": [],
      "source": [
        "ResNet50 = models.resnet50(pretrained=False)\n",
        "fc_inputs = ResNet50.fc.in_features\n",
        "ResNet50.fc = nn.Sequential(\n",
        "    nn.Linear(fc_inputs,256),\n",
        "    nn.ReLU(),\n",
        "    nn.Linear(256,hidden_dim),\n",
        "    nn.ReLU(),\n",
        "    nn.Linear(hidden_dim, hidden_dim))"
      ]
    },
    {
      "cell_type": "code",
      "execution_count": 11,
      "metadata": {
        "id": "I29i6Ayx8YTY"
      },
      "outputs": [],
      "source": [
        "def train_epoch(epoch, data_loader, model, optimizer):\n",
        "  time_start = time.time()\n",
        "  for i, (data, label) in enumerate(data_loader):\n",
        "    B = data.shape[0]\n",
        "    label_vector = label_to_vec(B, label, label_dict) #(B, hidden_dim)\n",
        "    data = data.to(device)\n",
        "    label_vector = label_vector.to(device)/label_shrink \n",
        "\n",
        "    optimizer.zero_grad()\n",
        "    output = model.forward(data)\n",
        "    bare_MSE = torch.sum((output-label_vector)**2, axis=1)\n",
        "    loss = torch.sum(bare_MSE)/B\n",
        "\n",
        "    loss_hist[epoch] += loss.item()\n",
        "    loss.backward()\n",
        "    optimizer.step()\n",
        "\n",
        "  if (epoch+1)%1 == 0:\n",
        "    time_now = time.time()\n",
        "    used_minutes = (time_now - time_start)/60\n",
        "    print('Round', str(epoch+1)+'/'+str(nIters),', Loss: ', round(loss_hist[epoch].item(),5), ', Using: ', round(used_minutes, 2),' mins')\n",
        "    time_start = time.time()\n",
        "    # for i in range(nclass):\n",
        "    #   plt.scatter(label_vec[i,0].cpu().detach().numpy(), label_vec[i,1].cpu().detach().numpy())\n",
        "    # #plt.xlim(-2,2) \n",
        "    # #plt.ylim(-1,1)\n",
        "    # plt.title('The broccoli-like label, ROUND '+str(epoch+1))\n",
        "    # plt.show()"
      ]
    },
    {
      "cell_type": "code",
      "execution_count": 12,
      "metadata": {
        "colab": {
          "base_uri": "https://localhost:8080/"
        },
        "id": "J9Dn3c8c8YVp",
        "outputId": "e0efc628-1801-478e-85f0-72da64e77d90"
      },
      "outputs": [
        {
          "output_type": "stream",
          "name": "stdout",
          "text": [
            "Round 1/20 , Loss:  11.54659 , Using:  7.35  mins\n",
            "Round 2/20 , Loss:  4.95789 , Using:  3.91  mins\n",
            "Round 3/20 , Loss:  4.20175 , Using:  3.92  mins\n",
            "Round 4/20 , Loss:  3.86877 , Using:  3.91  mins\n",
            "Round 5/20 , Loss:  4.27505 , Using:  3.89  mins\n",
            "Round 6/20 , Loss:  4.31877 , Using:  3.87  mins\n",
            "Round 7/20 , Loss:  4.73871 , Using:  3.93  mins\n",
            "Round 8/20 , Loss:  4.79384 , Using:  3.87  mins\n",
            "Round 9/20 , Loss:  4.86878 , Using:  3.81  mins\n",
            "Round 10/20 , Loss:  4.63749 , Using:  3.82  mins\n",
            "Round 11/20 , Loss:  4.20866 , Using:  3.8  mins\n",
            "Round 12/20 , Loss:  4.65863 , Using:  3.77  mins\n",
            "Round 13/20 , Loss:  4.5157 , Using:  3.87  mins\n",
            "Round 14/20 , Loss:  4.5732 , Using:  3.83  mins\n",
            "Round 15/20 , Loss:  3.49299 , Using:  3.86  mins\n",
            "Round 16/20 , Loss:  3.4885 , Using:  3.84  mins\n",
            "Round 17/20 , Loss:  3.2363 , Using:  3.85  mins\n",
            "Round 18/20 , Loss:  4.13592 , Using:  3.8  mins\n",
            "Round 19/20 , Loss:  4.85423 , Using:  3.79  mins\n",
            "Round 20/20 , Loss:  4.66827 , Using:  3.82  mins\n"
          ]
        }
      ],
      "source": [
        "model = ResNet50.to(device)\n",
        "\n",
        "optimizer = torch.optim.Adam(params=model.parameters(), lr=learning_rate)\n",
        "\n",
        "run_name = 'run-'+ str(time.time())\n",
        "result_path = path+'/results/' + run_name + '/'\n",
        "train_val_metrics_path = result_path + 'train_val_metrics/'\n",
        "model_path = result_path + 'saved_model.pt'\n",
        "if not os.path.exists(result_path):\n",
        "    os.makedirs(result_path)\n",
        "    os.mkdir(train_val_metrics_path)\n",
        "\n",
        "loss_hist = torch.zeros(nIters).to(device)\n",
        "\n",
        "for epoch in range(nIters):\n",
        "  train_epoch(epoch, train_loader, model, optimizer)\n",
        "\n",
        "torch.save(model.state_dict(), model_path)"
      ]
    },
    {
      "cell_type": "code",
      "execution_count": 13,
      "metadata": {
        "id": "UPBxQZ078YYH",
        "colab": {
          "base_uri": "https://localhost:8080/",
          "height": 299
        },
        "outputId": "f2958762-921a-4ebb-9d05-a79f7dc81600"
      },
      "outputs": [
        {
          "output_type": "execute_result",
          "data": {
            "text/plain": [
              "Text(0.5, 1.0, 'Training Loss')"
            ]
          },
          "metadata": {},
          "execution_count": 13
        },
        {
          "output_type": "display_data",
          "data": {
            "image/png": "[encoded data removed]",
            "text/plain": [
              "<Figure size 432x288 with 1 Axes>"
            ]
          },
          "metadata": {
            "needs_background": "light"
          }
        }
      ],
      "source": [
        "plt.plot(torch.arange(nIters), loss_hist.cpu().detach().numpy())\n",
        "plt.title('Training Loss')"
      ]
    },
    {
      "cell_type": "markdown",
      "metadata": {
        "id": "s5gTPXbY9nQC"
      },
      "source": [
        "# Test"
      ]
    },
    {
      "cell_type": "code",
      "source": [
        "label_name_list = list(label_dict.keys())\n",
        "label_vector_full = torch.zeros(num_class, hidden_dim).to(device)\n",
        "for i in range(len(label_name_list)):\n",
        "  name = label_name_list[i]\n",
        "  label_vector_full[i,:] = torch.tensor(label_dict[name]).reshape(-1)"
      ],
      "metadata": {
        "id": "qmADxQ-8vBln"
      },
      "execution_count": 27,
      "outputs": []
    },
    {
      "cell_type": "code",
      "source": [
        "data_trainset_test = Imgnet_Dataset(data_root, mode='train')\n",
        "train_loader_test = data.DataLoader(data_trainset_test, batch_size=150, shuffle=False)\n",
        "\n",
        "data_valset_test = Imgnet_Dataset(data_root, mode='val')\n",
        "val_loader_test = data.DataLoader(data_valset_test, batch_size=150, shuffle=False)"
      ],
      "metadata": {
        "id": "yCAZFg5tKIaM"
      },
      "execution_count": null,
      "outputs": []
    },
    {
      "cell_type": "code",
      "execution_count": 9,
      "metadata": {
        "id": "q7ywUT7f8WCT"
      },
      "outputs": [],
      "source": [
        "def vector_to_prediction(output, label_vec):\n",
        "  # output (B, feature_dim)\n",
        "  # label_vec (num_class, feature_dim)\n",
        "\n",
        "  diff = output.unsqueeze(1) - label_vec.cuda().unsqueeze(0) #(B, N, feature_dim)\n",
        "  diff = torch.sum(diff**2,2)\n",
        "  return torch.argmin(diff,dim=1) #(B,)"
      ]
    },
    {
      "cell_type": "code",
      "source": [
        "def get_label_index(y):\n",
        "  l = len(y)\n",
        "  label_index = torch.zeros(l).to(device)\n",
        "  for i in range(l):\n",
        "    label_index[i] = label_name_list.index(y[i])\n",
        "  return label_index"
      ],
      "metadata": {
        "id": "6GZrRQHow6Mb"
      },
      "execution_count": 41,
      "outputs": []
    },
    {
      "cell_type": "code",
      "source": [
        "# Evaluate model on test set\n",
        "out_path = train_val_metrics_path + '/'\n",
        "\n",
        "train_losses, train_preds = [], []\n",
        "num_correct_train = 0\n",
        "total_num_train = 0\n",
        "\n",
        "with torch.no_grad():\n",
        "  for X,y in train_loader_test:\n",
        "    B = X.shape[0]\n",
        "    output_vector = model(X.to(device))*label_shrink \n",
        "    label_vector = label_to_vec(B, y, label_dict).to(device)\n",
        "    label_index = get_label_index(y)\n",
        "\n",
        "    prediction = vector_to_prediction(output_vector, label_vector_full)\n",
        "    loss = nn.MSELoss()(output_vector, label_vector)\n",
        "    train_preds.append(prediction)\n",
        "    train_losses.append(loss.item())\n",
        "    num_correct_train += int(torch.sum(prediction == label_index))\n",
        "    total_num_train += B\n",
        "\n",
        "train_loss = np.mean(train_losses)\n",
        "train_acc = num_correct_train/total_num_train\n",
        "print('train loss: ' + str(round(train_loss,3)))\n",
        "print('train accuracy: ' + str(round(train_acc*100,3))+'%')"
      ],
      "metadata": {
        "colab": {
          "base_uri": "https://localhost:8080/"
        },
        "id": "8nHvr3ib_ZE4",
        "outputId": "320b9b29-f871-40bb-e05e-03a0685e15d7"
      },
      "execution_count": 47,
      "outputs": [
        {
          "output_type": "stream",
          "name": "stdout",
          "text": [
            "train loss: 6.638\n",
            "train accuracy: 1.563%\n"
          ]
        }
      ]
    },
    {
      "cell_type": "code",
      "source": [
        "test_preds, test_losses = [], []\n",
        "num_correct_test = 0\n",
        "total_num_test = 0\n",
        "\n",
        "with torch.no_grad():\n",
        "  for X,y in val_loader_test:\n",
        "    B = X.shape[0]\n",
        "    output_vector = model(X.to(device))*label_shrink\n",
        "    label_vector = label_to_vec(B, y, label_dict).to(device)\n",
        "    label_index = get_label_index(y)\n",
        "\n",
        "    prediction = vector_to_prediction(output_vector, label_vector_full)\n",
        "    loss = nn.MSELoss()(output_vector, label_vector)\n",
        "    test_preds.append(prediction)\n",
        "    test_losses.append(loss.item())\n",
        "    num_correct_test += int(torch.sum(prediction == label_index))\n",
        "    total_num_test += B\n",
        "\n",
        "test_loss = np.mean(test_losses)\n",
        "test_acc = num_correct_test/total_num_test\n",
        "print('test loss: ' + str(round(test_loss,3)))\n",
        "print('test accuracy: ' + str(round(test_acc*100,3))+'%')"
      ],
      "metadata": {
        "colab": {
          "base_uri": "https://localhost:8080/",
          "height": 397
        },
        "id": "J55zP3MK6aNr",
        "outputId": "3906b51b-0542-4617-f25e-a24cac5d1647"
      },
      "execution_count": 51,
      "outputs": [
        {
          "output_type": "error",
          "ename": "KeyboardInterrupt",
          "evalue": "ignored",
          "traceback": [
            "\u001b[0;31m---------------------------------------------------------------------------\u001b[0m",
            "\u001b[0;31mKeyboardInterrupt\u001b[0m                         Traceback (most recent call last)",
            "\u001b[0;32m<ipython-input-51-6d2fcdde0746>\u001b[0m in \u001b[0;36m<module>\u001b[0;34m()\u001b[0m\n\u001b[1;32m      4\u001b[0m \u001b[0;34m\u001b[0m\u001b[0m\n\u001b[1;32m      5\u001b[0m \u001b[0;32mwith\u001b[0m \u001b[0mtorch\u001b[0m\u001b[0;34m.\u001b[0m\u001b[0mno_grad\u001b[0m\u001b[0;34m(\u001b[0m\u001b[0;34m)\u001b[0m\u001b[0;34m:\u001b[0m\u001b[0;34m\u001b[0m\u001b[0;34m\u001b[0m\u001b[0m\n\u001b[0;32m----> 6\u001b[0;31m   \u001b[0;32mfor\u001b[0m \u001b[0mX\u001b[0m\u001b[0;34m,\u001b[0m\u001b[0my\u001b[0m \u001b[0;32min\u001b[0m \u001b[0mval_loader\u001b[0m\u001b[0;34m:\u001b[0m\u001b[0;34m\u001b[0m\u001b[0;34m\u001b[0m\u001b[0m\n\u001b[0m\u001b[1;32m      7\u001b[0m     \u001b[0mB\u001b[0m \u001b[0;34m=\u001b[0m \u001b[0mX\u001b[0m\u001b[0;34m.\u001b[0m\u001b[0mshape\u001b[0m\u001b[0;34m[\u001b[0m\u001b[0;36m0\u001b[0m\u001b[0;34m]\u001b[0m\u001b[0;34m\u001b[0m\u001b[0;34m\u001b[0m\u001b[0m\n\u001b[1;32m      8\u001b[0m     \u001b[0moutput_vector\u001b[0m \u001b[0;34m=\u001b[0m \u001b[0mmodel\u001b[0m\u001b[0;34m(\u001b[0m\u001b[0mX\u001b[0m\u001b[0;34m.\u001b[0m\u001b[0mto\u001b[0m\u001b[0;34m(\u001b[0m\u001b[0mdevice\u001b[0m\u001b[0;34m)\u001b[0m\u001b[0;34m)\u001b[0m\u001b[0;34m*\u001b[0m\u001b[0mlabel_shrink\u001b[0m\u001b[0;34m\u001b[0m\u001b[0;34m\u001b[0m\u001b[0m\n",
            "\u001b[0;32m/usr/local/lib/python3.7/dist-packages/torch/utils/data/dataloader.py\u001b[0m in \u001b[0;36m__next__\u001b[0;34m(self)\u001b[0m\n\u001b[1;32m    519\u001b[0m             \u001b[0;32mif\u001b[0m \u001b[0mself\u001b[0m\u001b[0;34m.\u001b[0m\u001b[0m_sampler_iter\u001b[0m \u001b[0;32mis\u001b[0m \u001b[0;32mNone\u001b[0m\u001b[0;34m:\u001b[0m\u001b[0;34m\u001b[0m\u001b[0;34m\u001b[0m\u001b[0m\n\u001b[1;32m    520\u001b[0m                 \u001b[0mself\u001b[0m\u001b[0;34m.\u001b[0m\u001b[0m_reset\u001b[0m\u001b[0;34m(\u001b[0m\u001b[0;34m)\u001b[0m\u001b[0;34m\u001b[0m\u001b[0;34m\u001b[0m\u001b[0m\n\u001b[0;32m--> 521\u001b[0;31m             \u001b[0mdata\u001b[0m \u001b[0;34m=\u001b[0m \u001b[0mself\u001b[0m\u001b[0;34m.\u001b[0m\u001b[0m_next_data\u001b[0m\u001b[0;34m(\u001b[0m\u001b[0;34m)\u001b[0m\u001b[0;34m\u001b[0m\u001b[0;34m\u001b[0m\u001b[0m\n\u001b[0m\u001b[1;32m    522\u001b[0m             \u001b[0mself\u001b[0m\u001b[0;34m.\u001b[0m\u001b[0m_num_yielded\u001b[0m \u001b[0;34m+=\u001b[0m \u001b[0;36m1\u001b[0m\u001b[0;34m\u001b[0m\u001b[0;34m\u001b[0m\u001b[0m\n\u001b[1;32m    523\u001b[0m             \u001b[0;32mif\u001b[0m \u001b[0mself\u001b[0m\u001b[0;34m.\u001b[0m\u001b[0m_dataset_kind\u001b[0m \u001b[0;34m==\u001b[0m \u001b[0m_DatasetKind\u001b[0m\u001b[0;34m.\u001b[0m\u001b[0mIterable\u001b[0m \u001b[0;32mand\u001b[0m\u001b[0;31m \u001b[0m\u001b[0;31m\\\u001b[0m\u001b[0;34m\u001b[0m\u001b[0;34m\u001b[0m\u001b[0m\n",
            "\u001b[0;32m/usr/local/lib/python3.7/dist-packages/torch/utils/data/dataloader.py\u001b[0m in \u001b[0;36m_next_data\u001b[0;34m(self)\u001b[0m\n\u001b[1;32m    559\u001b[0m     \u001b[0;32mdef\u001b[0m \u001b[0m_next_data\u001b[0m\u001b[0;34m(\u001b[0m\u001b[0mself\u001b[0m\u001b[0;34m)\u001b[0m\u001b[0;34m:\u001b[0m\u001b[0;34m\u001b[0m\u001b[0;34m\u001b[0m\u001b[0m\n\u001b[1;32m    560\u001b[0m         \u001b[0mindex\u001b[0m \u001b[0;34m=\u001b[0m \u001b[0mself\u001b[0m\u001b[0;34m.\u001b[0m\u001b[0m_next_index\u001b[0m\u001b[0;34m(\u001b[0m\u001b[0;34m)\u001b[0m  \u001b[0;31m# may raise StopIteration\u001b[0m\u001b[0;34m\u001b[0m\u001b[0;34m\u001b[0m\u001b[0m\n\u001b[0;32m--> 561\u001b[0;31m         \u001b[0mdata\u001b[0m \u001b[0;34m=\u001b[0m \u001b[0mself\u001b[0m\u001b[0;34m.\u001b[0m\u001b[0m_dataset_fetcher\u001b[0m\u001b[0;34m.\u001b[0m\u001b[0mfetch\u001b[0m\u001b[0;34m(\u001b[0m\u001b[0mindex\u001b[0m\u001b[0;34m)\u001b[0m  \u001b[0;31m# may raise StopIteration\u001b[0m\u001b[0;34m\u001b[0m\u001b[0;34m\u001b[0m\u001b[0m\n\u001b[0m\u001b[1;32m    562\u001b[0m         \u001b[0;32mif\u001b[0m \u001b[0mself\u001b[0m\u001b[0;34m.\u001b[0m\u001b[0m_pin_memory\u001b[0m\u001b[0;34m:\u001b[0m\u001b[0;34m\u001b[0m\u001b[0;34m\u001b[0m\u001b[0m\n\u001b[1;32m    563\u001b[0m             \u001b[0mdata\u001b[0m \u001b[0;34m=\u001b[0m \u001b[0m_utils\u001b[0m\u001b[0;34m.\u001b[0m\u001b[0mpin_memory\u001b[0m\u001b[0;34m.\u001b[0m\u001b[0mpin_memory\u001b[0m\u001b[0;34m(\u001b[0m\u001b[0mdata\u001b[0m\u001b[0;34m)\u001b[0m\u001b[0;34m\u001b[0m\u001b[0;34m\u001b[0m\u001b[0m\n",
            "\u001b[0;32m/usr/local/lib/python3.7/dist-packages/torch/utils/data/_utils/fetch.py\u001b[0m in \u001b[0;36mfetch\u001b[0;34m(self, possibly_batched_index)\u001b[0m\n\u001b[1;32m     47\u001b[0m     \u001b[0;32mdef\u001b[0m \u001b[0mfetch\u001b[0m\u001b[0;34m(\u001b[0m\u001b[0mself\u001b[0m\u001b[0;34m,\u001b[0m \u001b[0mpossibly_batched_index\u001b[0m\u001b[0;34m)\u001b[0m\u001b[0;34m:\u001b[0m\u001b[0;34m\u001b[0m\u001b[0;34m\u001b[0m\u001b[0m\n\u001b[1;32m     48\u001b[0m         \u001b[0;32mif\u001b[0m \u001b[0mself\u001b[0m\u001b[0;34m.\u001b[0m\u001b[0mauto_collation\u001b[0m\u001b[0;34m:\u001b[0m\u001b[0;34m\u001b[0m\u001b[0;34m\u001b[0m\u001b[0m\n\u001b[0;32m---> 49\u001b[0;31m             \u001b[0mdata\u001b[0m \u001b[0;34m=\u001b[0m \u001b[0;34m[\u001b[0m\u001b[0mself\u001b[0m\u001b[0;34m.\u001b[0m\u001b[0mdataset\u001b[0m\u001b[0;34m[\u001b[0m\u001b[0midx\u001b[0m\u001b[0;34m]\u001b[0m \u001b[0;32mfor\u001b[0m \u001b[0midx\u001b[0m \u001b[0;32min\u001b[0m \u001b[0mpossibly_batched_index\u001b[0m\u001b[0;34m]\u001b[0m\u001b[0;34m\u001b[0m\u001b[0;34m\u001b[0m\u001b[0m\n\u001b[0m\u001b[1;32m     50\u001b[0m         \u001b[0;32melse\u001b[0m\u001b[0;34m:\u001b[0m\u001b[0;34m\u001b[0m\u001b[0;34m\u001b[0m\u001b[0m\n\u001b[1;32m     51\u001b[0m             \u001b[0mdata\u001b[0m \u001b[0;34m=\u001b[0m \u001b[0mself\u001b[0m\u001b[0;34m.\u001b[0m\u001b[0mdataset\u001b[0m\u001b[0;34m[\u001b[0m\u001b[0mpossibly_batched_index\u001b[0m\u001b[0;34m]\u001b[0m\u001b[0;34m\u001b[0m\u001b[0;34m\u001b[0m\u001b[0m\n",
            "\u001b[0;32m/usr/local/lib/python3.7/dist-packages/torch/utils/data/_utils/fetch.py\u001b[0m in \u001b[0;36m<listcomp>\u001b[0;34m(.0)\u001b[0m\n\u001b[1;32m     47\u001b[0m     \u001b[0;32mdef\u001b[0m \u001b[0mfetch\u001b[0m\u001b[0;34m(\u001b[0m\u001b[0mself\u001b[0m\u001b[0;34m,\u001b[0m \u001b[0mpossibly_batched_index\u001b[0m\u001b[0;34m)\u001b[0m\u001b[0;34m:\u001b[0m\u001b[0;34m\u001b[0m\u001b[0;34m\u001b[0m\u001b[0m\n\u001b[1;32m     48\u001b[0m         \u001b[0;32mif\u001b[0m \u001b[0mself\u001b[0m\u001b[0;34m.\u001b[0m\u001b[0mauto_collation\u001b[0m\u001b[0;34m:\u001b[0m\u001b[0;34m\u001b[0m\u001b[0;34m\u001b[0m\u001b[0m\n\u001b[0;32m---> 49\u001b[0;31m             \u001b[0mdata\u001b[0m \u001b[0;34m=\u001b[0m \u001b[0;34m[\u001b[0m\u001b[0mself\u001b[0m\u001b[0;34m.\u001b[0m\u001b[0mdataset\u001b[0m\u001b[0;34m[\u001b[0m\u001b[0midx\u001b[0m\u001b[0;34m]\u001b[0m \u001b[0;32mfor\u001b[0m \u001b[0midx\u001b[0m \u001b[0;32min\u001b[0m \u001b[0mpossibly_batched_index\u001b[0m\u001b[0;34m]\u001b[0m\u001b[0;34m\u001b[0m\u001b[0;34m\u001b[0m\u001b[0m\n\u001b[0m\u001b[1;32m     50\u001b[0m         \u001b[0;32melse\u001b[0m\u001b[0;34m:\u001b[0m\u001b[0;34m\u001b[0m\u001b[0;34m\u001b[0m\u001b[0m\n\u001b[1;32m     51\u001b[0m             \u001b[0mdata\u001b[0m \u001b[0;34m=\u001b[0m \u001b[0mself\u001b[0m\u001b[0;34m.\u001b[0m\u001b[0mdataset\u001b[0m\u001b[0;34m[\u001b[0m\u001b[0mpossibly_batched_index\u001b[0m\u001b[0;34m]\u001b[0m\u001b[0;34m\u001b[0m\u001b[0;34m\u001b[0m\u001b[0m\n",
            "\u001b[0;32m/content/drive/My Drive/542_Proj/utils/load_data.py\u001b[0m in \u001b[0;36m__getitem__\u001b[0;34m(self, index)\u001b[0m\n\u001b[1;32m     95\u001b[0m     \u001b[0;31m#### Get input img and its label\u001b[0m\u001b[0;34m\u001b[0m\u001b[0;34m\u001b[0m\u001b[0;34m\u001b[0m\u001b[0m\n\u001b[1;32m     96\u001b[0m     \u001b[0;32mdef\u001b[0m \u001b[0m__getitem__\u001b[0m\u001b[0;34m(\u001b[0m\u001b[0mself\u001b[0m\u001b[0;34m,\u001b[0m \u001b[0mindex\u001b[0m\u001b[0;34m)\u001b[0m\u001b[0;34m:\u001b[0m\u001b[0;34m\u001b[0m\u001b[0;34m\u001b[0m\u001b[0m\n\u001b[0;32m---> 97\u001b[0;31m         \u001b[0mmypath\u001b[0m \u001b[0;34m=\u001b[0m \u001b[0mself\u001b[0m\u001b[0;34m.\u001b[0m\u001b[0mpath\u001b[0m\u001b[0;34m[\u001b[0m\u001b[0mindex\u001b[0m\u001b[0;34m]\u001b[0m\u001b[0;34m\u001b[0m\u001b[0;34m\u001b[0m\u001b[0m\n\u001b[0m\u001b[1;32m     98\u001b[0m         \u001b[0mlabel\u001b[0m \u001b[0;34m=\u001b[0m \u001b[0mmypath\u001b[0m\u001b[0;34m.\u001b[0m\u001b[0msplit\u001b[0m\u001b[0;34m(\u001b[0m\u001b[0;34m'/'\u001b[0m\u001b[0;34m)\u001b[0m\u001b[0;34m[\u001b[0m\u001b[0;34m-\u001b[0m\u001b[0;36m1\u001b[0m\u001b[0;34m]\u001b[0m\u001b[0;34m.\u001b[0m\u001b[0msplit\u001b[0m\u001b[0;34m(\u001b[0m\u001b[0;34m'_'\u001b[0m\u001b[0;34m)\u001b[0m\u001b[0;34m[\u001b[0m\u001b[0;34m-\u001b[0m\u001b[0;36m2\u001b[0m\u001b[0;34m]\u001b[0m\u001b[0;34m.\u001b[0m\u001b[0msplit\u001b[0m\u001b[0;34m(\u001b[0m\u001b[0;34m'/'\u001b[0m\u001b[0;34m)\u001b[0m\u001b[0;34m[\u001b[0m\u001b[0;34m-\u001b[0m\u001b[0;36m1\u001b[0m\u001b[0;34m]\u001b[0m\u001b[0;34m\u001b[0m\u001b[0;34m\u001b[0m\u001b[0m\n\u001b[1;32m     99\u001b[0m         \u001b[0mimg\u001b[0m \u001b[0;34m=\u001b[0m \u001b[0mself\u001b[0m\u001b[0;34m.\u001b[0m\u001b[0mloader\u001b[0m\u001b[0;34m(\u001b[0m\u001b[0mmypath\u001b[0m\u001b[0;34m)\u001b[0m\u001b[0;34m\u001b[0m\u001b[0;34m\u001b[0m\u001b[0m\n",
            "\u001b[0;32m/content/drive/My Drive/542_Proj/utils/load_data.py\u001b[0m in \u001b[0;36mpil_loader\u001b[0;34m(path)\u001b[0m\n\u001b[1;32m     58\u001b[0m \u001b[0;34m\u001b[0m\u001b[0m\n\u001b[1;32m     59\u001b[0m \u001b[0;31m#### Definition of loader\u001b[0m\u001b[0;34m\u001b[0m\u001b[0;34m\u001b[0m\u001b[0;34m\u001b[0m\u001b[0m\n\u001b[0;32m---> 60\u001b[0;31m \u001b[0;32mdef\u001b[0m \u001b[0mpil_loader\u001b[0m\u001b[0;34m(\u001b[0m\u001b[0mpath\u001b[0m\u001b[0;34m)\u001b[0m\u001b[0;34m:\u001b[0m\u001b[0;34m\u001b[0m\u001b[0;34m\u001b[0m\u001b[0m\n\u001b[0m\u001b[1;32m     61\u001b[0m     \u001b[0;32mwith\u001b[0m \u001b[0mopen\u001b[0m\u001b[0;34m(\u001b[0m\u001b[0mpath\u001b[0m\u001b[0;34m,\u001b[0m \u001b[0;34m'rb'\u001b[0m\u001b[0;34m)\u001b[0m \u001b[0;32mas\u001b[0m \u001b[0mf\u001b[0m\u001b[0;34m:\u001b[0m\u001b[0;34m\u001b[0m\u001b[0;34m\u001b[0m\u001b[0m\n\u001b[1;32m     62\u001b[0m         \u001b[0;32mwith\u001b[0m \u001b[0mImage\u001b[0m\u001b[0;34m.\u001b[0m\u001b[0mopen\u001b[0m\u001b[0;34m(\u001b[0m\u001b[0mf\u001b[0m\u001b[0;34m)\u001b[0m \u001b[0;32mas\u001b[0m \u001b[0mimg\u001b[0m\u001b[0;34m:\u001b[0m\u001b[0;34m\u001b[0m\u001b[0;34m\u001b[0m\u001b[0m\n",
            "\u001b[0;32m/usr/local/lib/python3.7/dist-packages/PIL/Image.py\u001b[0m in \u001b[0;36mopen\u001b[0;34m(fp, mode)\u001b[0m\n\u001b[1;32m   2850\u001b[0m         \u001b[0mexclusive_fp\u001b[0m \u001b[0;34m=\u001b[0m \u001b[0;32mTrue\u001b[0m\u001b[0;34m\u001b[0m\u001b[0;34m\u001b[0m\u001b[0m\n\u001b[1;32m   2851\u001b[0m \u001b[0;34m\u001b[0m\u001b[0m\n\u001b[0;32m-> 2852\u001b[0;31m     \u001b[0mprefix\u001b[0m \u001b[0;34m=\u001b[0m \u001b[0mfp\u001b[0m\u001b[0;34m.\u001b[0m\u001b[0mread\u001b[0m\u001b[0;34m(\u001b[0m\u001b[0;36m16\u001b[0m\u001b[0;34m)\u001b[0m\u001b[0;34m\u001b[0m\u001b[0;34m\u001b[0m\u001b[0m\n\u001b[0m\u001b[1;32m   2853\u001b[0m \u001b[0;34m\u001b[0m\u001b[0m\n\u001b[1;32m   2854\u001b[0m     \u001b[0mpreinit\u001b[0m\u001b[0;34m(\u001b[0m\u001b[0;34m)\u001b[0m\u001b[0;34m\u001b[0m\u001b[0;34m\u001b[0m\u001b[0m\n",
            "\u001b[0;31mKeyboardInterrupt\u001b[0m: "
          ]
        }
      ]
    },
    {
      "cell_type": "code",
      "execution_count": null,
      "metadata": {
        "id": "CFEy0vww-TRX"
      },
      "outputs": [],
      "source": [
        "with open(train_val_metrics_path + 'test_model.csv', 'w') as csvfile:\n",
        "  fieldnames = ['train_loss', 'train_acc', 'test_loss', 'test_acc']\n",
        "  writer = csv.DictWriter(csvfile, fieldnames=fieldnames)\n",
        "  writer.writeheader()\n",
        "  writer.writerow({'train_loss': train_loss, 'train_acc': train_acc, 'test_loss': test_loss, 'test_acc': test_acc})"
      ]
    },
    {
      "cell_type": "code",
      "execution_count": null,
      "metadata": {
        "id": "_8wNoPmdMKoo"
      },
      "outputs": [],
      "source": [
        ""
      ]
    },
    {
      "cell_type": "code",
      "execution_count": null,
      "metadata": {
        "id": "b00rz7STMKql"
      },
      "outputs": [],
      "source": [
        ""
      ]
    },
    {
      "cell_type": "code",
      "execution_count": null,
      "metadata": {
        "id": "x42I_8JUVxzZ"
      },
      "outputs": [],
      "source": [
        ""
      ]
    }
  ],
  "metadata": {
    "accelerator": "GPU",
    "colab": {
      "collapsed_sections": [],
      "name": "synthetic-train.ipynb",
      "provenance": [],
      "authorship_tag": "ABX9TyP6Znui7ISxJwdEzrtNV/CP",
      "include_colab_link": true
    },
    "kernelspec": {
      "display_name": "Python 3",
      "name": "python3"
    },
    "language_info": {
      "name": "python"
    }
  },
  "nbformat": 4,
  "nbformat_minor": 0
}