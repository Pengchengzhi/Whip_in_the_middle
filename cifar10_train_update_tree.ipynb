{
  "nbformat": 4,
  "nbformat_minor": 0,
  "metadata": {
    "accelerator": "GPU",
    "colab": {
      "name": "cifar10-train.ipynb",
      "provenance": [],
      "collapsed_sections": [],
      "authorship_tag": "ABX9TyNEo/HEgWERvOSW57liUgKX",
      "include_colab_link": true
    },
    "kernelspec": {
      "display_name": "Python 3",
      "name": "python3"
    },
    "language_info": {
      "name": "python"
    }
  },
  "cells": [
    {
      "cell_type": "markdown",
      "metadata": {
        "id": "view-in-github",
        "colab_type": "text"
      },
      "source": [
        "<a href=\"https://colab.research.google.com/github/Pengchengzhi/Whip_in_the_middle/blob/main/cifar10_train_update_tree.ipynb\" target=\"_parent\"><img src=\"https://colab.research.google.com/assets/colab-badge.svg\" alt=\"Open In Colab\"/></a>"
      ]
    },
    {
      "cell_type": "markdown",
      "metadata": {
        "id": "4lHwATNgFnh6"
      },
      "source": [
        "# Initiate"
      ]
    },
    {
      "cell_type": "code",
      "metadata": {
        "colab": {
          "base_uri": "https://localhost:8080/"
        },
        "id": "BqIetBfMRuzQ",
        "outputId": "7bd5da7b-f4c3-4707-d048-42af76afa7e8"
      },
      "source": [
        "!nvidia-smi"
      ],
      "execution_count": 1,
      "outputs": [
        {
          "output_type": "stream",
          "name": "stdout",
          "text": [
            "Wed Nov 17 04:09:00 2021       \n",
            "+-----------------------------------------------------------------------------+\n",
            "| NVIDIA-SMI 495.44       Driver Version: 460.32.03    CUDA Version: 11.2     |\n",
            "|-------------------------------+----------------------+----------------------+\n",
            "| GPU  Name        Persistence-M| Bus-Id        Disp.A | Volatile Uncorr. ECC |\n",
            "| Fan  Temp  Perf  Pwr:Usage/Cap|         Memory-Usage | GPU-Util  Compute M. |\n",
            "|                               |                      |               MIG M. |\n",
            "|===============================+======================+======================|\n",
            "|   0  Tesla V100-SXM2...  Off  | 00000000:00:04.0 Off |                    0 |\n",
            "| N/A   36C    P0    25W / 300W |      0MiB / 16160MiB |      0%      Default |\n",
            "|                               |                      |                  N/A |\n",
            "+-------------------------------+----------------------+----------------------+\n",
            "                                                                               \n",
            "+-----------------------------------------------------------------------------+\n",
            "| Processes:                                                                  |\n",
            "|  GPU   GI   CI        PID   Type   Process name                  GPU Memory |\n",
            "|        ID   ID                                                   Usage      |\n",
            "|=============================================================================|\n",
            "|  No running processes found                                                 |\n",
            "+-----------------------------------------------------------------------------+\n"
          ]
        }
      ]
    },
    {
      "cell_type": "code",
      "metadata": {
        "colab": {
          "base_uri": "https://localhost:8080/"
        },
        "id": "XlQzBMPbtc4n",
        "outputId": "2df1c23c-1c2c-4e93-e0f2-4dbd88c0a959"
      },
      "source": [
        "from google.colab import drive\n",
        "drive.mount(\"/content/drive\")\n",
        "\n",
        "import os\n",
        "path=\"/content/drive/My Drive/542_Proj\"\n",
        "os.chdir(path)\n",
        "os.listdir(path)"
      ],
      "execution_count": 2,
      "outputs": [
        {
          "output_type": "stream",
          "name": "stdout",
          "text": [
            "Drive already mounted at /content/drive; to attempt to forcibly remount, call drive.mount(\"/content/drive\", force_remount=True).\n"
          ]
        },
        {
          "output_type": "execute_result",
          "data": {
            "text/plain": [
              "['data', 'results', 'pts.jpg', 'angel.jpg', 'path.jpg', 'cifar10-train.ipynb']"
            ]
          },
          "metadata": {},
          "execution_count": 2
        }
      ]
    },
    {
      "cell_type": "code",
      "metadata": {
        "id": "pU4Be0KVen7S"
      },
      "source": [
        "import torch\n",
        "import math\n",
        "import matplotlib.pyplot as plt\n",
        "import time\n",
        "import os\n",
        "import numpy as np\n",
        "import csv\n",
        "from torchvision import transforms\n",
        "from torchvision import datasets, models\n",
        "import torch.nn as nn\n",
        "\n",
        "device = 'cuda' if torch.cuda.is_available() else 'cpu'"
      ],
      "execution_count": 3,
      "outputs": []
    },
    {
      "cell_type": "markdown",
      "metadata": {
        "id": "frX6e7ZgS6ky"
      },
      "source": [
        "# To Do"
      ]
    },
    {
      "cell_type": "markdown",
      "metadata": {
        "id": "Z1NSR9gCS8XR"
      },
      "source": [
        "* change the dataset and hierarchy\n",
        "* implement loss_2 and loss_3\n",
        "* update label after each training epoch"
      ]
    },
    {
      "cell_type": "markdown",
      "metadata": {
        "id": "df0WGG0uPQZr"
      },
      "source": [
        "# Note"
      ]
    },
    {
      "cell_type": "markdown",
      "metadata": {
        "id": "nCMjx_m1RYMs"
      },
      "source": [
        "I use CIFAR-10 classification task to try the model. The hierarchy was chosen at random, and the tree looks like below."
      ]
    },
    {
      "cell_type": "markdown",
      "metadata": {
        "id": "Uc58KkZkQ45o"
      },
      "source": [
        "![path.jpg](data:image/jpeg;base64,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)"
      ]
    },
    {
      "cell_type": "markdown",
      "metadata": {
        "id": "Rc7pQcQNRtv4"
      },
      "source": [
        "Where 0,1,...9 (in black) at the end of each branch represents the class label. The red 1,2,...7 indicates the path. The path of each class is given by the index of branches along its path, like class 4 is given by branch 2 at level 1, branch 3 at level 2, and no branches in level 3 and level 4, so the index is 0."
      ]
    },
    {
      "cell_type": "markdown",
      "metadata": {
        "id": "EtcvmEx2STI-"
      },
      "source": [
        "I chose the feature dimension to be 2, so it can be drawn in 2D plane. Accually I want the feature dimension to be a variable, a hyper parameter we can tune. But in this special case of feature dimension equals 2, I initiated the tree label by calculating angels."
      ]
    },
    {
      "cell_type": "markdown",
      "metadata": {
        "id": "d3b-d8FhQ43U"
      },
      "source": [
        "![angel.jpg](data:image/jpeg;base64,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)"
      ]
    },
    {
      "cell_type": "markdown",
      "metadata": {
        "id": "Atq-Xm1jSpap"
      },
      "source": [
        "To plot the tree, I indexed each node."
      ]
    },
    {
      "cell_type": "markdown",
      "metadata": {
        "id": "y46SrU57Q404"
      },
      "source": [
        "![pts.jpg](data:image/jpeg;base64,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)"
      ]
    },
    {
      "cell_type": "markdown",
      "metadata": {
        "id": "9wk8G9O_Fph2"
      },
      "source": [
        "# Make Label"
      ]
    },
    {
      "cell_type": "code",
      "metadata": {
        "id": "jbxblBwBeqSt"
      },
      "source": [
        "label_index = torch.tensor([[1,1,1,1],[2,4,6,0],\n",
        "               [1,2,3,4],[1,2,4,0],\n",
        "               [2,3,0,0],[1,2,5,0],\n",
        "               [1,1,2,3],[2,4,7,0],\n",
        "               [1,1,1,2],[1,1,2,4]])\n",
        "\n",
        "tree_angel = torch.tensor([[180,0,0,0,0,0,0],\n",
        "              [120,240,-60,60,0,0,0],\n",
        "              [180,60,195,240,285,120,0],\n",
        "              [240,120,120,0,0,0,0]])\n",
        "\n",
        "tree_length = [1,0.5,0.2,0.1]\n",
        "\n",
        "ndepth = 4\n",
        "max_branch = 7\n",
        "nclass = 10\n",
        "w_tree = 0.00 # how much percentage of tree_vec will change\n",
        "w_mse = 1 # for the misclassified samples, extra penalty\n",
        "l_tree = 0.05 # how far away should cluster center go\n",
        "\n",
        "nIters = 60"
      ],
      "execution_count": 4,
      "outputs": []
    },
    {
      "cell_type": "code",
      "metadata": {
        "id": "_xM51ymKeqVI"
      },
      "source": [
        "# Calculate vector for each branch\n",
        "tree_vec = torch.zeros(ndepth,max_branch,2)\n",
        "for i in range(ndepth):\n",
        "  for j in range(max_branch):\n",
        "    angel = tree_angel[i,j]/180*math.pi\n",
        "    tree_vec[i,j,0] = math.cos(angel)\n",
        "    tree_vec[i,j,1] = math.sin(angel)"
      ],
      "execution_count": 5,
      "outputs": []
    },
    {
      "cell_type": "code",
      "metadata": {
        "id": "175SMn7BeqXd"
      },
      "source": [
        "# Create the label vector using path and tree branch\n",
        "def make_label_vector(tree_vec):\n",
        "  label_vec = torch.zeros(nclass,2)\n",
        "  for i in range(nclass):\n",
        "    for j in range(ndepth):\n",
        "      vec_ind = label_index[i,j]-1\n",
        "      label_vec[i,:] += tree_length[j]*tree_vec[j,vec_ind,:]\n",
        "  return label_vec\n",
        "label_vec = make_label_vector(tree_vec).to(device)"
      ],
      "execution_count": 6,
      "outputs": []
    },
    {
      "cell_type": "code",
      "metadata": {
        "id": "kqgxTkW_kHGR"
      },
      "source": [
        "# draw tree shape\n",
        "def draw_tree_shape(tree_vec, tree_length, label_vec, line_color='k', dot_color='r'):\n",
        "  tree_pts = torch.zeros(18,2)\n",
        "  tree_pts[0,:] = torch.tensor([0,0])\n",
        "  tree_pts[1,:] = tree_pts[0,:] + tree_vec[0,0,:]*tree_length[0]\n",
        "  tree_pts[2,:] = tree_pts[0,:] + tree_vec[0,1,:]*tree_length[0]\n",
        "  tree_pts[3,:] = tree_pts[1,:] + tree_vec[1,0,:]*tree_length[1]\n",
        "  tree_pts[4,:] = tree_pts[1,:] + tree_vec[1,1,:]*tree_length[1]\n",
        "  tree_pts[5,:] = tree_pts[2,:] + tree_vec[1,2,:]*tree_length[1]\n",
        "  tree_pts[6,:] = tree_pts[2,:] + tree_vec[1,3,:]*tree_length[1]\n",
        "  tree_pts[7,:] = tree_pts[3,:] + tree_vec[2,0,:]*tree_length[2]\n",
        "  tree_pts[8,:] = tree_pts[3,:] + tree_vec[2,1,:]*tree_length[2]\n",
        "  tree_pts[9,:] = tree_pts[4,:] + tree_vec[2,2,:]*tree_length[2]\n",
        "  tree_pts[10,:] = tree_pts[4,:] + tree_vec[2,3,:]*tree_length[2]\n",
        "  tree_pts[11,:] = tree_pts[4,:] + tree_vec[2,4,:]*tree_length[2]\n",
        "  tree_pts[12,:] = tree_pts[6,:] + tree_vec[2,5,:]*tree_length[2]\n",
        "  tree_pts[13,:] = tree_pts[6,:] + tree_vec[2,6,:]*tree_length[2]\n",
        "  tree_pts[14,:] = tree_pts[7,:] + tree_vec[3,0,:]*tree_length[3]\n",
        "  tree_pts[15,:] = tree_pts[7,:] + tree_vec[3,1,:]*tree_length[3]\n",
        "  tree_pts[16,:] = tree_pts[8,:] + tree_vec[3,2,:]*tree_length[3]\n",
        "  tree_pts[17,:] = tree_pts[8,:] + tree_vec[3,3,:]*tree_length[3]\n",
        "\n",
        "  plt.plot([tree_pts[0,0],tree_pts[1,0]],[tree_pts[0,1],tree_pts[1,1]],line_color)\n",
        "  plt.plot([tree_pts[0,0],tree_pts[2,0]],[tree_pts[0,1],tree_pts[2,1]],line_color)\n",
        "  plt.plot([tree_pts[1,0],tree_pts[3,0]],[tree_pts[1,1],tree_pts[3,1]],line_color)\n",
        "  plt.plot([tree_pts[1,0],tree_pts[4,0]],[tree_pts[1,1],tree_pts[4,1]],line_color)\n",
        "  plt.plot([tree_pts[2,0],tree_pts[5,0]],[tree_pts[2,1],tree_pts[5,1]],line_color)\n",
        "  plt.plot([tree_pts[2,0],tree_pts[6,0]],[tree_pts[2,1],tree_pts[6,1]],line_color)\n",
        "  plt.plot([tree_pts[3,0],tree_pts[7,0]],[tree_pts[3,1],tree_pts[7,1]],line_color)\n",
        "  plt.plot([tree_pts[3,0],tree_pts[8,0]],[tree_pts[3,1],tree_pts[8,1]],line_color)\n",
        "  plt.plot([tree_pts[4,0],tree_pts[9,0]],[tree_pts[4,1],tree_pts[9,1]],line_color)\n",
        "  plt.plot([tree_pts[4,0],tree_pts[10,0]],[tree_pts[4,1],tree_pts[10,1]],line_color)\n",
        "  plt.plot([tree_pts[4,0],tree_pts[11,0]],[tree_pts[4,1],tree_pts[11,1]],line_color)\n",
        "  plt.plot([tree_pts[6,0],tree_pts[12,0]],[tree_pts[6,1],tree_pts[12,1]],line_color)\n",
        "  plt.plot([tree_pts[6,0],tree_pts[13,0]],[tree_pts[6,1],tree_pts[13,1]],line_color)\n",
        "  plt.plot([tree_pts[7,0],tree_pts[14,0]],[tree_pts[7,1],tree_pts[14,1]],line_color)\n",
        "  plt.plot([tree_pts[7,0],tree_pts[15,0]],[tree_pts[7,1],tree_pts[15,1]],line_color)\n",
        "  plt.plot([tree_pts[8,0],tree_pts[16,0]],[tree_pts[8,1],tree_pts[16,1]],line_color)\n",
        "  plt.plot([tree_pts[8,0],tree_pts[17,0]],[tree_pts[8,1],tree_pts[17,1]],line_color)\n",
        "  for i in range(18):\n",
        "    plt.scatter(tree_pts[i,0], tree_pts[i,1],c=dot_color)\n",
        "  for i in range(10):\n",
        "    plt.text(label_vec[i,0], label_vec[i,1] ,str(i),fontsize=20, verticalalignment=\"bottom\", horizontalalignment=\"right\")\n",
        "  plt.text(0, 0 ,'start', fontsize=20, verticalalignment=\"top\", horizontalalignment=\"center\")\n",
        "  plt.xlim(-2,2) \n",
        "  plt.ylim(-1,1)\n",
        "  plt.title('The broccoli-like label')"
      ],
      "execution_count": 7,
      "outputs": []
    },
    {
      "cell_type": "code",
      "metadata": {
        "colab": {
          "base_uri": "https://localhost:8080/",
          "height": 281
        },
        "id": "I1cfd5HHnJbw",
        "outputId": "9d4bd6a1-23fe-4b14-edd1-30a5ab90e257"
      },
      "source": [
        "draw_tree_shape(tree_vec, tree_length, label_vec)"
      ],
      "execution_count": 8,
      "outputs": [
        {
          "output_type": "display_data",
          "data": {
            "image/png": "[encoded data removed]",
            "text/plain": [
              "<Figure size 432x288 with 1 Axes>"
            ]
          },
          "metadata": {
            "needs_background": "light"
          }
        }
      ]
    },
    {
      "cell_type": "markdown",
      "metadata": {
        "id": "woK2AG4Qp-M0"
      },
      "source": [
        "# Train"
      ]
    },
    {
      "cell_type": "code",
      "metadata": {
        "id": "jj8gaWkF9mdO"
      },
      "source": [
        "def vector_to_prediction(output, label_vec):\n",
        "  # output (B, feature_dim)\n",
        "  # label_vec (N, feature_dim)\n",
        "\n",
        "  diff = output.unsqueeze(1) - label_vec.cuda().unsqueeze(0) #(B, N, feature_dim)\n",
        "  diff = torch.sum(diff**2,2)\n",
        "  return torch.argmin(diff,dim=1) #(B,)"
      ],
      "execution_count": 9,
      "outputs": []
    },
    {
      "cell_type": "code",
      "metadata": {
        "id": "XLtRF4kxL-3J"
      },
      "source": [
        "# find new centers\n",
        "\n",
        "def update_center(label_vec, pred, label, l_tree):\n",
        "  # label_vec (C, feature_dim): center points\n",
        "  # pred (B,): predicted labels\n",
        "  # label (B,): actual labels\n",
        "  # l_tree: float\n",
        "  \n",
        "  new_label_vec = torch.zeros(nclass, 2).to(device)\n",
        "  for i in range(nclass):\n",
        "    index = pred == i\n",
        "    if torch.sum(index)<0.1:\n",
        "      continue\n",
        "    #print('i',i)\n",
        "    #print('label[index]', label[index])\n",
        "    new_label_vec[i,:] = l_tree*torch.sum(label_vec[i,:] - label_vec[label[index],:], axis=0)\n",
        "  new_label_vec = label_vec * (1-w_tree) + new_label_vec * w_tree\n",
        "  return new_label_vec"
      ],
      "execution_count": 10,
      "outputs": []
    },
    {
      "cell_type": "code",
      "metadata": {
        "id": "MRbeXflHqAdz"
      },
      "source": [
        "ResNet50 = models.resnet50(pretrained=False)\n",
        "fc_inputs = ResNet50.fc.in_features\n",
        "ResNet50.fc = nn.Sequential(\n",
        "    nn.Linear(fc_inputs,256),\n",
        "    nn.ReLU(),\n",
        "    nn.Linear(256,10),\n",
        "    nn.ReLU(),\n",
        "    nn.Linear(10,2))"
      ],
      "execution_count": 11,
      "outputs": []
    },
    {
      "cell_type": "code",
      "metadata": {
        "id": "PGckTbAZvGHi"
      },
      "source": [
        "transform = transforms.Compose([transforms.ToTensor()])"
      ],
      "execution_count": 12,
      "outputs": []
    },
    {
      "cell_type": "code",
      "metadata": {
        "colab": {
          "base_uri": "https://localhost:8080/"
        },
        "id": "hbofJMI3qAf5",
        "outputId": "09ce463b-bcb1-4730-98e6-a147a900f695"
      },
      "source": [
        "data_train = datasets.CIFAR10(root = \"./data/\", train = True, transform=transform, download = True)\n",
        "data_test = datasets.CIFAR10(root=\"./data/\", train = False, transform=transform)\n",
        "train_loader = torch.utils.data.DataLoader(dataset=data_train, batch_size = 2000, shuffle = True, drop_last=True)\n",
        "test_loader = torch.utils.data.DataLoader(dataset=data_test, batch_size = 2000, shuffle = True, drop_last=True)"
      ],
      "execution_count": 13,
      "outputs": [
        {
          "output_type": "stream",
          "name": "stdout",
          "text": [
            "Files already downloaded and verified\n"
          ]
        }
      ]
    },
    {
      "cell_type": "code",
      "metadata": {
        "id": "4xIRYC3qrVOk"
      },
      "source": [
        "def train_epoch(epoch, label_vec, data_loader, model, optimizer):\n",
        "  for (X, y) in data_loader:\n",
        "    y = y.to(device)\n",
        "    label = label_vec[y.reshape(-1,1),:].squeeze().to(device)\n",
        "    B = X.shape[0]\n",
        "\n",
        "    optimizer.zero_grad()\n",
        "    output = model.forward(X.to(device))\n",
        "    bare_MSE = torch.sum((output-label)**2, axis=1)\n",
        "    \n",
        "    pred = vector_to_prediction(output, label_vec)\n",
        "    mask = pred == y\n",
        "    mask[mask == True] = 1\n",
        "    mask[mask == False] = w_mse\n",
        "    loss = torch.sum(bare_MSE*mask)/B\n",
        "\n",
        "    loss_hist[epoch] += loss.item()\n",
        "    loss.backward()\n",
        "    optimizer.step()\n",
        "\n",
        "    label_vec = update_center(label_vec, pred, y, l_tree)\n",
        "\n",
        "  if (epoch+1)%5 == 0:\n",
        "    print('Round', str(epoch+1)+'/'+str(nIters),', Loss: ', round(loss_hist[epoch].item(),5))\n",
        "    # for i in range(nclass):\n",
        "    #   plt.scatter(label_vec[i,0].cpu().detach().numpy(), label_vec[i,1].cpu().detach().numpy())\n",
        "    # #plt.xlim(-2,2) \n",
        "    # #plt.ylim(-1,1)\n",
        "    # plt.title('The broccoli-like label, ROUND '+str(epoch+1))\n",
        "    # plt.show()"
      ],
      "execution_count": 14,
      "outputs": []
    },
    {
      "cell_type": "code",
      "metadata": {
        "colab": {
          "base_uri": "https://localhost:8080/"
        },
        "id": "F2Df8e9iqAiN",
        "outputId": "548fba81-8029-4e73-d914-b0630d57c95c"
      },
      "source": [
        "model = ResNet50.to(device)\n",
        "\n",
        "optmizer = torch.optim.Adam(params=model.parameters(), lr=1e-4)\n",
        "\n",
        "run_name = 'run-'+ str(time.time())\n",
        "result_path = path+'/results/' + run_name + '/'\n",
        "train_val_metrics_path = result_path + 'train_val_metrics/'\n",
        "model_path = result_path + 'saved_model.pt'\n",
        "if not os.path.exists(result_path):\n",
        "    os.makedirs(result_path)\n",
        "    os.mkdir(train_val_metrics_path)\n",
        "\n",
        "loss_hist = torch.zeros(nIters).to(device)\n",
        "\n",
        "for epoch in range(nIters):\n",
        "  train_epoch(epoch, label_vec, train_loader, model, optmizer)\n",
        "\n",
        "torch.save(model.state_dict(), model_path)"
      ],
      "execution_count": 15,
      "outputs": [
        {
          "output_type": "stream",
          "name": "stdout",
          "text": [
            "Round 5/60 , Loss:  37.27825\n",
            "Round 10/60 , Loss:  24.7355\n",
            "Round 15/60 , Loss:  17.64754\n",
            "Round 20/60 , Loss:  13.06972\n",
            "Round 25/60 , Loss:  10.66595\n",
            "Round 30/60 , Loss:  7.63471\n",
            "Round 35/60 , Loss:  6.10436\n",
            "Round 40/60 , Loss:  5.91564\n",
            "Round 45/60 , Loss:  4.60965\n",
            "Round 50/60 , Loss:  3.66184\n",
            "Round 55/60 , Loss:  3.34362\n",
            "Round 60/60 , Loss:  3.3378\n"
          ]
        }
      ]
    },
    {
      "cell_type": "code",
      "metadata": {
        "colab": {
          "base_uri": "https://localhost:8080/",
          "height": 299
        },
        "id": "kcoGR1OAeqcS",
        "outputId": "b751cc82-e946-422b-e2d5-492227abe3d3"
      },
      "source": [
        "plt.plot(torch.arange(nIters), loss_hist.cpu().detach().numpy())\n",
        "plt.title('Training Loss')"
      ],
      "execution_count": 16,
      "outputs": [
        {
          "output_type": "execute_result",
          "data": {
            "text/plain": [
              "Text(0.5, 1.0, 'Training Loss')"
            ]
          },
          "metadata": {},
          "execution_count": 16
        },
        {
          "output_type": "display_data",
          "data": {
            "image/png": "[encoded data removed]",
            "text/plain": [
              "<Figure size 432x288 with 1 Axes>"
            ]
          },
          "metadata": {
            "needs_background": "light"
          }
        }
      ]
    },
    {
      "cell_type": "markdown",
      "metadata": {
        "id": "s5gTPXbY9nQC"
      },
      "source": [
        "# Test"
      ]
    },
    {
      "cell_type": "code",
      "metadata": {
        "id": "13wqLu8i-TPK"
      },
      "source": [
        "def test_model(train_loader, test_loader, model, loss_func, result_path):\n",
        "  # Evaluate model on test set\n",
        "  out_path = result_path + '/'\n",
        "  test_preds, train_preds = [], []\n",
        "  train_losses, test_losses = [], []\n",
        "  num_correct_test = 0\n",
        "  num_correct_train = 0\n",
        "\n",
        "  for X,y in train_loader:\n",
        "    with torch.no_grad():\n",
        "      output_vector = model(X.to(device))\n",
        "      label_vector = label_vec[y.reshape(-1,1),:].squeeze().to(device)\n",
        "\n",
        "      prediction = vector_to_prediction(output_vector, label_vec)\n",
        "      loss = loss_func(output_vector, label_vector)\n",
        "      train_preds.append(prediction)\n",
        "      train_losses.append(loss.item())\n",
        "      #print(prediction == y.to(device))\n",
        "      num_correct_train += int(torch.sum(prediction == y.to(device)))\n",
        "  for X,y in test_loader:\n",
        "    with torch.no_grad():\n",
        "      output_vector = model(X.to(device))\n",
        "      label_vector = label_vec[y.reshape(-1,1),:].squeeze().to(device)\n",
        "\n",
        "      prediction = vector_to_prediction(output_vector, label_vec)\n",
        "      loss = loss_func(output_vector, label_vector)\n",
        "      test_preds.append(prediction)\n",
        "      test_losses.append(loss.item())\n",
        "      num_correct_test += int(torch.sum(prediction == y.to(device)))\n",
        "\n",
        "  train_loss = np.mean(train_losses)\n",
        "  train_acc = num_correct_train/50000\n",
        "  test_loss = np.mean(test_losses)\n",
        "  test_acc = num_correct_test/10000\n",
        "\n",
        "  #print('Performance Metrics for epoch ' + str(epoch_num) + ':')\n",
        "  print('train loss: ' + str(round(train_loss,3)))\n",
        "  print('test loss: ' + str(round(test_loss,3)))\n",
        "  print('train accuracy: ' + str(round(train_acc*100,3))+'%')\n",
        "  print('test accuracy: ' + str(round(test_acc*100,3))+'%')\n",
        "\n",
        "  with open(result_path + 'test_model.csv', 'w') as csvfile:\n",
        "    fieldnames = ['train_loss', 'train_acc', 'test_loss', 'test_acc']\n",
        "    writer = csv.DictWriter(csvfile, fieldnames=fieldnames)\n",
        "    writer.writeheader()\n",
        "    writer.writerow({'train_loss': train_loss, 'train_acc': train_acc, 'test_loss': test_loss, 'test_acc': test_acc})"
      ],
      "execution_count": 17,
      "outputs": []
    },
    {
      "cell_type": "code",
      "metadata": {
        "colab": {
          "base_uri": "https://localhost:8080/"
        },
        "id": "CFEy0vww-TRX",
        "outputId": "5152fe9f-9564-4574-98a9-d7aaca939d5a"
      },
      "source": [
        "test_model(train_loader, test_loader, model, nn.MSELoss(), train_val_metrics_path)"
      ],
      "execution_count": 18,
      "outputs": [
        {
          "output_type": "stream",
          "name": "stdout",
          "text": [
            "train loss: 0.061\n",
            "test loss: 1.017\n",
            "train accuracy: 50.206%\n",
            "test accuracy: 27.95%\n"
          ]
        }
      ]
    },
    {
      "cell_type": "markdown",
      "metadata": {
        "id": "kBZMP1Ez8TTb"
      },
      "source": [
        "# Compaire"
      ]
    },
    {
      "cell_type": "code",
      "metadata": {
        "id": "haFLq47keqec"
      },
      "source": [
        "ResNet50_base = models.resnet18(pretrained=False)\n",
        "fc_inputs = ResNet50_base.fc.in_features\n",
        "ResNet50_base.fc = nn.Sequential(\n",
        "    nn.Linear(fc_inputs,512),\n",
        "    nn.ReLU(),\n",
        "    nn.Linear(512,10))\n",
        "    # nn.ReLU(),\n",
        "    # nn.Linear(10,2),\n",
        "    # nn.ReLU(),\n",
        "    # nn.Linear(2,10))\n",
        "\n",
        "ResNet50_base = ResNet50_base.to(device)"
      ],
      "execution_count": 23,
      "outputs": []
    },
    {
      "cell_type": "code",
      "metadata": {
        "colab": {
          "base_uri": "https://localhost:8080/"
        },
        "id": "H5Pv8Qy5-Kji",
        "outputId": "1b6f4877-0c08-4639-9135-890c7c445e19"
      },
      "source": [
        "nIters_base = 30\n",
        "optimizer_base = torch.optim.Adam(params=ResNet50_base.parameters(), lr=1e-4)\n",
        "loss_hist_base = torch.zeros(nIters_base).to(device)\n",
        "\n",
        "transform = transforms.Compose([transforms.ToTensor()])\n",
        "\n",
        "data_train_base = datasets.CIFAR10(root = \"./data/\", train = True, transform=transform, download = True)\n",
        "data_test_base = datasets.CIFAR10(root=\"./data/\", train = False, transform=transform)\n",
        "train_loader_base = torch.utils.data.DataLoader(dataset=data_train_base, batch_size = 3000, shuffle = True, drop_last=True)\n",
        "test_loader_base = torch.utils.data.DataLoader(dataset=data_test_base, batch_size = 3000, shuffle = True, drop_last=True)"
      ],
      "execution_count": 24,
      "outputs": [
        {
          "output_type": "stream",
          "name": "stdout",
          "text": [
            "Files already downloaded and verified\n"
          ]
        }
      ]
    },
    {
      "cell_type": "code",
      "metadata": {
        "id": "FHk-6byaFWeZ"
      },
      "source": [
        "def softmax_loss(pred, label):\n",
        "  # pred: (B,C)\n",
        "  # label: (C)\n",
        "  B = pred.shape[0]\n",
        "\n",
        "  expo = torch.exp(pred)\n",
        "  score = expo/torch.sum(expo,axis=1).reshape(-1,1)\n",
        "  the_score = score[torch.arange(B).reshape(1,B),label].squeeze()\n",
        "  return -torch.sum(torch.log(the_score+1e-5))/B"
      ],
      "execution_count": 25,
      "outputs": []
    },
    {
      "cell_type": "code",
      "metadata": {
        "id": "R_y5F6mSFUTB",
        "colab": {
          "base_uri": "https://localhost:8080/"
        },
        "outputId": "5674e985-5bb7-41ec-c9bf-f5bdb1b7b476"
      },
      "source": [
        "for epoch in range(nIters_base):\n",
        "  for (X, y) in train_loader_base:\n",
        "    X = X.to(device)\n",
        "    y = y.to(device)\n",
        "\n",
        "    output = ResNet50_base.forward(X)\n",
        "    loss = softmax_loss(output, y)\n",
        "    loss_hist_base[epoch] += loss\n",
        "\n",
        "    optimizer_base.zero_grad()\n",
        "    loss.backward()\n",
        "    optimizer_base.step()\n",
        "\n",
        "  if (epoch+1)%5 == 0:\n",
        "    print('Round', str(epoch+1)+'/'+str(nIters_base),', Loss: ', round(loss_hist_base[epoch].item(),5))"
      ],
      "execution_count": 26,
      "outputs": [
        {
          "output_type": "stream",
          "name": "stdout",
          "text": [
            "Round 5/30 , Loss:  16.69745\n",
            "Round 10/30 , Loss:  2.69174\n",
            "Round 15/30 , Loss:  0.08824\n",
            "Round 20/30 , Loss:  0.03315\n",
            "Round 25/30 , Loss:  0.01956\n",
            "Round 30/30 , Loss:  0.01315\n"
          ]
        }
      ]
    },
    {
      "cell_type": "code",
      "metadata": {
        "colab": {
          "base_uri": "https://localhost:8080/",
          "height": 299
        },
        "id": "Rg0vdFjXAgVE",
        "outputId": "8c7c6f51-ad67-4236-f73e-689baccfd386"
      },
      "source": [
        "plt.plot(torch.arange(nIters_base), loss_hist_base.cpu().detach().numpy())\n",
        "plt.title('Training Loss for ResNet Baseline')"
      ],
      "execution_count": 27,
      "outputs": [
        {
          "output_type": "execute_result",
          "data": {
            "text/plain": [
              "Text(0.5, 1.0, 'Training Loss for ResNet Baseline')"
            ]
          },
          "metadata": {},
          "execution_count": 27
        },
        {
          "output_type": "display_data",
          "data": {
            "image/png": "[encoded data removed]",
            "text/plain": [
              "<Figure size 432x288 with 1 Axes>"
            ]
          },
          "metadata": {
            "needs_background": "light"
          }
        }
      ]
    },
    {
      "cell_type": "code",
      "metadata": {
        "id": "wJ4HWfatFUU_",
        "colab": {
          "base_uri": "https://localhost:8080/"
        },
        "outputId": "39c379f4-7f40-47e7-e08e-a99ff86bcaa0"
      },
      "source": [
        "num_correct_test_base = 0\n",
        "total_num = 0\n",
        "\n",
        "for X,y in train_loader_base:\n",
        "  with torch.no_grad():\n",
        "    y = y.to(device)\n",
        "    X = X.to(device)\n",
        "\n",
        "    output = ResNet50_base(X)\n",
        "    pred = torch.argmax(output, axis=1)\n",
        "    \n",
        "    num_correct_test_base += int(torch.sum(pred == y))\n",
        "    total_num += X.shape[0]\n",
        "train_acc = num_correct_test_base/total_num\n",
        "\n",
        "\n",
        "\n",
        "num_correct_test_base = 0\n",
        "total_num = 0\n",
        "\n",
        "for X,y in test_loader_base:\n",
        "  with torch.no_grad():\n",
        "    y = y.to(device)\n",
        "    X = X.to(device)\n",
        "\n",
        "    output = ResNet50_base(X)\n",
        "    pred = torch.argmax(output, axis=1)\n",
        "    \n",
        "    num_correct_test_base += int(torch.sum(pred == y))\n",
        "    total_num += X.shape[0]\n",
        "test_acc = num_correct_test_base/total_num\n",
        "\n",
        "print('Base Line train accuracy: ' + str(round(train_acc*100,3))+'%')\n",
        "print('Base Line test accuracy: ' + str(round(test_acc*100,3))+'%')"
      ],
      "execution_count": 29,
      "outputs": [
        {
          "output_type": "stream",
          "name": "stdout",
          "text": [
            "Base Line train accuracy: 100.0%\n",
            "Base Line test accuracy: 51.644%\n"
          ]
        }
      ]
    },
    {
      "cell_type": "code",
      "metadata": {
        "id": "LqquxzKpIywo"
      },
      "source": [
        ""
      ],
      "execution_count": null,
      "outputs": []
    },
    {
      "cell_type": "code",
      "metadata": {
        "id": "2aaLHLKpVxvX"
      },
      "source": [
        ""
      ],
      "execution_count": null,
      "outputs": []
    },
    {
      "cell_type": "code",
      "metadata": {
        "id": "x42I_8JUVxzZ"
      },
      "source": [
        ""
      ],
      "execution_count": null,
      "outputs": []
    }
  ]
}